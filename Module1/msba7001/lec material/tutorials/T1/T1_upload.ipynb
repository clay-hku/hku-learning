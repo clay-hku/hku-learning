{
 "cells": [
  {
   "cell_type": "markdown",
   "id": "1626174a",
   "metadata": {},
   "source": [
    "# 7001 T1"
   ]
  },
  {
   "cell_type": "markdown",
   "id": "1fbabd28",
   "metadata": {},
   "source": [
    "## Useful functions"
   ]
  },
  {
   "cell_type": "code",
   "execution_count": 1,
   "id": "36a1cbb5",
   "metadata": {},
   "outputs": [],
   "source": [
    "from collections import Counter, defaultdict, deque"
   ]
  },
  {
   "cell_type": "markdown",
   "id": "0796741b",
   "metadata": {},
   "source": [
    "You can check the documentations here: https://docs.python.org/3/library/collections.html"
   ]
  },
  {
   "cell_type": "markdown",
   "id": "19469fdc",
   "metadata": {},
   "source": [
    "### Counter"
   ]
  },
  {
   "cell_type": "code",
   "execution_count": 2,
   "id": "1d9d8044",
   "metadata": {},
   "outputs": [
    {
     "data": {
      "text/plain": [
       "Counter({'I': 1,\n",
       "         ' ': 8,\n",
       "         'l': 1,\n",
       "         'o': 2,\n",
       "         'v': 1,\n",
       "         'e': 5,\n",
       "         'M': 1,\n",
       "         'S': 1,\n",
       "         'B': 1,\n",
       "         'A': 1,\n",
       "         '7': 1,\n",
       "         '0': 2,\n",
       "         '1': 1,\n",
       "         '.': 2,\n",
       "         'D': 1,\n",
       "         'i': 2,\n",
       "         'n': 1,\n",
       "         'g': 1,\n",
       "         'C': 1,\n",
       "         'h': 3,\n",
       "         'a': 2,\n",
       "         's': 2,\n",
       "         't': 3,\n",
       "         'b': 1,\n",
       "         'c': 1,\n",
       "         'r': 1})"
      ]
     },
     "execution_count": 2,
     "metadata": {},
     "output_type": "execute_result"
    }
   ],
   "source": [
    "string = 'I love MSBA7001. Ding Chao is the best teacher.'\n",
    "c=Counter(string)\n",
    "c"
   ]
  },
  {
   "cell_type": "code",
   "execution_count": 3,
   "id": "62e0b614",
   "metadata": {},
   "outputs": [
    {
     "data": {
      "text/plain": [
       "47"
      ]
     },
     "execution_count": 3,
     "metadata": {},
     "output_type": "execute_result"
    }
   ],
   "source": [
    "#Total number of characters\n",
    "c.total()"
   ]
  },
  {
   "cell_type": "code",
   "execution_count": 4,
   "id": "70f2eaa5",
   "metadata": {},
   "outputs": [
    {
     "data": {
      "text/plain": [
       "[(' ', 8), ('e', 5)]"
      ]
     },
     "execution_count": 4,
     "metadata": {},
     "output_type": "execute_result"
    }
   ],
   "source": [
    "#2 most common characters\n",
    "c.most_common(2)"
   ]
  },
  {
   "cell_type": "code",
   "execution_count": 5,
   "id": "1c1590a7",
   "metadata": {},
   "outputs": [
    {
     "data": {
      "text/plain": [
       "Counter({'apple': 3, 'banana': 2, 'cherry': 3})"
      ]
     },
     "execution_count": 5,
     "metadata": {},
     "output_type": "execute_result"
    }
   ],
   "source": [
    "fruits = ['apple', 'banana', 'cherry', 'apple', 'cherry', 'apple', 'banana', 'cherry']\n",
    "Counter(fruits)"
   ]
  },
  {
   "cell_type": "markdown",
   "id": "cb3e8bd1",
   "metadata": {},
   "source": [
    "### defaultdict"
   ]
  },
  {
   "cell_type": "code",
   "execution_count": 23,
   "id": "8b98de0d",
   "metadata": {},
   "outputs": [
    {
     "data": {
      "text/plain": [
       "defaultdict(int, {'m': 1, 'i': 4, 's': 4, 'p': 2})"
      ]
     },
     "execution_count": 23,
     "metadata": {},
     "output_type": "execute_result"
    }
   ],
   "source": [
    "d = defaultdict(int)\n",
    "m = 'mississippi'\n",
    "\n",
    "for k in m:\n",
    "    d[k] += 1\n",
    "d"
   ]
  },
  {
   "cell_type": "code",
   "execution_count": 24,
   "id": "6f0340fc",
   "metadata": {},
   "outputs": [
    {
     "data": {
      "text/plain": [
       "defaultdict(list, {'yellow': [1, 3], 'blue': [2, 4], 'red': [1]})"
      ]
     },
     "execution_count": 24,
     "metadata": {},
     "output_type": "execute_result"
    }
   ],
   "source": [
    "d2=defaultdict(list)\n",
    "colors = [('yellow', 1), ('blue', 2), ('yellow', 3), ('blue', 4), ('red', 1)]\n",
    "for k,v in colors:\n",
    "    d2[k].append(v)\n",
    "d2\n"
   ]
  },
  {
   "cell_type": "markdown",
   "id": "1f25b778",
   "metadata": {},
   "source": [
    "### deque"
   ]
  },
  {
   "cell_type": "code",
   "execution_count": 32,
   "id": "06ea6bf9",
   "metadata": {},
   "outputs": [
    {
     "data": {
      "text/plain": [
       "deque([1, 2, 3])"
      ]
     },
     "execution_count": 32,
     "metadata": {},
     "output_type": "execute_result"
    }
   ],
   "source": [
    "D=deque()\n",
    "D.append(1)\n",
    "D.append(2)\n",
    "D.append(3)\n",
    "D"
   ]
  },
  {
   "cell_type": "code",
   "execution_count": 33,
   "id": "1b21ea9a",
   "metadata": {},
   "outputs": [
    {
     "data": {
      "text/plain": [
       "deque([1, 2])"
      ]
     },
     "execution_count": 33,
     "metadata": {},
     "output_type": "execute_result"
    }
   ],
   "source": [
    "D.pop()\n",
    "D"
   ]
  },
  {
   "cell_type": "code",
   "execution_count": 34,
   "id": "c66e9c5f",
   "metadata": {},
   "outputs": [
    {
     "data": {
      "text/plain": [
       "deque([2])"
      ]
     },
     "execution_count": 34,
     "metadata": {},
     "output_type": "execute_result"
    }
   ],
   "source": [
    "cur=D.popleft()\n",
    "D"
   ]
  },
  {
   "cell_type": "code",
   "execution_count": 35,
   "id": "869e2c49",
   "metadata": {},
   "outputs": [
    {
     "data": {
      "text/plain": [
       "1"
      ]
     },
     "execution_count": 35,
     "metadata": {},
     "output_type": "execute_result"
    }
   ],
   "source": [
    "cur"
   ]
  },
  {
   "cell_type": "code",
   "execution_count": 36,
   "id": "4aa088c6",
   "metadata": {},
   "outputs": [
    {
     "data": {
      "text/plain": [
       "deque([5, 2])"
      ]
     },
     "execution_count": 36,
     "metadata": {},
     "output_type": "execute_result"
    }
   ],
   "source": [
    "D.appendleft(5)\n",
    "D"
   ]
  },
  {
   "cell_type": "markdown",
   "id": "c154ed7a",
   "metadata": {},
   "source": [
    "## Extra Questions"
   ]
  },
  {
   "cell_type": "markdown",
   "id": "7e3aae21",
   "metadata": {},
   "source": [
    "### Q1."
   ]
  },
  {
   "cell_type": "code",
   "execution_count": 6,
   "id": "4dc4c1ff",
   "metadata": {},
   "outputs": [],
   "source": [
    "#Hint: Use this dictionary:\n",
    "roman_dict = {1000: 'M', 900: 'CM', 500: 'D', 400: 'CD', 100: 'C', 90: 'XC', 50: 'L', 40: 'XL', 10: 'X', 9: 'IX', 5: 'V', 4: 'IV', 1: 'I'}"
   ]
  },
  {
   "cell_type": "markdown",
   "id": "5b8b7f52",
   "metadata": {},
   "source": [
    "### Q2."
   ]
  },
  {
   "cell_type": "code",
   "execution_count": 8,
   "id": "9df13a91",
   "metadata": {},
   "outputs": [
    {
     "data": {
      "text/plain": [
       "{2: 1, 4: 3}"
      ]
     },
     "execution_count": 8,
     "metadata": {},
     "output_type": "execute_result"
    }
   ],
   "source": [
    "#Hint: Reverse the dictionary\n",
    "numbers={1:2, 3:4}\n",
    "inv_map = {v: k for k, v in numbers.items()}\n",
    "inv_map"
   ]
  },
  {
   "cell_type": "markdown",
   "id": "8c7df585",
   "metadata": {},
   "source": [
    "### Q3."
   ]
  },
  {
   "cell_type": "code",
   "execution_count": 9,
   "id": "e398dac3",
   "metadata": {},
   "outputs": [],
   "source": [
    "#Hint: iterate every substring and create frequency dictionary\n"
   ]
  }
 ],
 "metadata": {
  "kernelspec": {
   "display_name": "Python 3 (ipykernel)",
   "language": "python",
   "name": "python3"
  },
  "language_info": {
   "codemirror_mode": {
    "name": "ipython",
    "version": 3
   },
   "file_extension": ".py",
   "mimetype": "text/x-python",
   "name": "python",
   "nbconvert_exporter": "python",
   "pygments_lexer": "ipython3",
   "version": "3.10.9"
  }
 },
 "nbformat": 4,
 "nbformat_minor": 5
}
