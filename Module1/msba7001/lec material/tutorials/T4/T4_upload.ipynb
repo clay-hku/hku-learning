{
 "cells": [
  {
   "cell_type": "code",
   "execution_count": 1,
   "id": "3054933f",
   "metadata": {},
   "outputs": [],
   "source": [
    "import requests\n",
    "from bs4 import BeautifulSoup\n",
    "import pandas as pd\n",
    "from collections import Counter"
   ]
  },
  {
   "cell_type": "markdown",
   "id": "a437163c",
   "metadata": {},
   "source": [
    "# Wordle Exercise"
   ]
  },
  {
   "cell_type": "markdown",
   "id": "c8f6f786",
   "metadata": {},
   "source": [
    "Wordle is a famous word game developed by Josh Wardle. \n",
    "\n",
    "Players have six guesses to find a five-letter word. After each guess the player will be shown a colour-coded version of their word.\n",
    "\n",
    "If each letter in the word is:\n",
    "\n",
    "- in the word and in the right place (shown as green) 🟩\n",
    "- in the word and in the wrong place (shown as yellow) 🟨\n",
    "- not in the word (shown as white) ⬜️\n",
    "\n",
    "Example:\n",
    "\n",
    "- 1st Guess : CRANE >> ⬜️🟩🟩🟨⬜️\n",
    "- 2nd Guess : SOLID >> ⬜️⬜️⬜️🟩⬜️\n",
    "- 3rd Guess: TRAIN >> ⬜️🟩🟩🟩🟩\n",
    "- 4th Guess: BRAIN >> 🟩🟩🟩🟩🟩\n",
    "\n",
    "Then player wins the game!"
   ]
  },
  {
   "cell_type": "markdown",
   "id": "e7b66e80",
   "metadata": {},
   "source": [
    "Your tasks are listed below:"
   ]
  },
  {
   "cell_type": "markdown",
   "id": "b97b9b62",
   "metadata": {},
   "source": [
    "### 1. Comparing Guess and Answer"
   ]
  },
  {
   "cell_type": "markdown",
   "id": "41fe2f96",
   "metadata": {},
   "source": [
    "***TASK:*** \n",
    "\n",
    "Before we try to play the game, we want to first define a function that can compare a guess and the true answer and return the result.\n",
    "Define a function named `get_result(guess, answer)` and the output should be a list of 5 emojis.\n",
    "\n",
    "For example: `get_result('SOLID', 'MOLDY')` gives you ⬜🟩🟩⬜🟨, when put in a list, it would be `[\"\\U00002B1C\", \"\\U0001F7E9\", \"\\U0001F7E9\", \"\\U00002B1C\", \"\\U0001F7E8\"]`\n"
   ]
  },
  {
   "cell_type": "code",
   "execution_count": 2,
   "id": "699a3f56",
   "metadata": {},
   "outputs": [
    {
     "name": "stdout",
     "output_type": "stream",
     "text": [
      "⬜🟩🟩⬜🟨"
     ]
    }
   ],
   "source": [
    "#Emojis for the game\n",
    "guess_result = [\"\\U00002B1C\", \"\\U0001F7E9\", \"\\U0001F7E9\", \"\\U00002B1C\", \"\\U0001F7E8\"]\n",
    "for emoji in guess_result:\n",
    "    print(emoji, end=\"\")\n",
    "    "
   ]
  },
  {
   "cell_type": "code",
   "execution_count": 3,
   "id": "d012e03e",
   "metadata": {},
   "outputs": [
    {
     "data": {
      "text/plain": [
       "['⬜', '🟩', '🟩', '⬜', '🟨']"
      ]
     },
     "execution_count": 3,
     "metadata": {},
     "output_type": "execute_result"
    }
   ],
   "source": [
    "def get_result(guess, answer): \n",
    "    result = []\n",
    "    for i in range(len(guess)):\n",
    "        if guess[i] == answer[i]:\n",
    "            result.append(\"\\U0001F7E9\") #Green\n",
    "        elif guess[i] in answer:\n",
    "            result.append(\"\\U0001F7E8\") #Yellow\n",
    "        else:\n",
    "            result.append(\"\\U00002B1C\") #White\n",
    "    return result\n",
    "get_result('SOLID', 'MOLDY')\n"
   ]
  },
  {
   "cell_type": "code",
   "execution_count": 4,
   "id": "f0ad4e44",
   "metadata": {},
   "outputs": [
    {
     "data": {
      "text/plain": [
       "'⬜🟩🟩⬜🟨'"
      ]
     },
     "execution_count": 4,
     "metadata": {},
     "output_type": "execute_result"
    }
   ],
   "source": [
    "\"\".join(get_result('SOLID', 'MOLDY'))"
   ]
  },
  {
   "cell_type": "code",
   "execution_count": 5,
   "id": "76a5fad1",
   "metadata": {},
   "outputs": [
    {
     "data": {
      "text/plain": [
       "'🟩⬜⬜⬜🟨'"
      ]
     },
     "execution_count": 5,
     "metadata": {},
     "output_type": "execute_result"
    }
   ],
   "source": [
    "\"\".join(get_result('SPINE', 'STEAK'))"
   ]
  },
  {
   "cell_type": "markdown",
   "id": "66476e9e",
   "metadata": {},
   "source": [
    "### 2. Scrape list of Wordle words"
   ]
  },
  {
   "cell_type": "markdown",
   "id": "311d5f36",
   "metadata": {},
   "source": [
    "***TASK:*** \n",
    "\n",
    "Get all words from the website ('https://www.wordunscrambler.net/word-list/wordle-word-list') and store them in a list."
   ]
  },
  {
   "cell_type": "code",
   "execution_count": 2,
   "id": "dd8c598b",
   "metadata": {},
   "outputs": [],
   "source": [
    "x = requests.get('https://www.wordunscrambler.net/word-list/wordle-word-list').text\n",
    "soup = BeautifulSoup(x, 'html.parser')"
   ]
  },
  {
   "cell_type": "code",
   "execution_count": 3,
   "id": "eeec7135",
   "metadata": {},
   "outputs": [],
   "source": [
    "words = [i.text.strip() for i in soup.find_all(class_='invert light')]"
   ]
  },
  {
   "cell_type": "code",
   "execution_count": 4,
   "id": "c61897ac",
   "metadata": {},
   "outputs": [
    {
     "data": {
      "text/plain": [
       "2309"
      ]
     },
     "execution_count": 4,
     "metadata": {},
     "output_type": "execute_result"
    }
   ],
   "source": [
    "len(words)"
   ]
  },
  {
   "cell_type": "code",
   "execution_count": 5,
   "id": "fbae5079",
   "metadata": {},
   "outputs": [
    {
     "data": {
      "text/plain": [
       "['aback', 'abase', 'abate', 'abbey', 'abbot']"
      ]
     },
     "execution_count": 5,
     "metadata": {},
     "output_type": "execute_result"
    }
   ],
   "source": [
    "words[:5]"
   ]
  },
  {
   "cell_type": "markdown",
   "id": "ef5a12ad",
   "metadata": {},
   "source": [
    "### 3. Choosing our first guess"
   ]
  },
  {
   "cell_type": "markdown",
   "id": "2b97800b",
   "metadata": {},
   "source": [
    "***TASK:*** \n",
    "\n",
    "In this part, we want to find the best first guess. We can first find the frequency of each character at each position. For example, 'a' appeared in the first letter 100 times, in the second letter 252 times, and so on. \n",
    "\n",
    "Then, for each valid word, we can calculate the word's score by using the frequencies of the character at the position. For example, the score of word `THING` can be represented by `number of valid words starts with T + number of valid words with H as 2nd letter + number of valid words with I as 3rd letter + number of valid words with N as 4th letter + number of valid words with G as 5th letter`.\n",
    "\n",
    "Finally, store all valid words and its scores in a DataFrame and find the word with the highest score."
   ]
  },
  {
   "cell_type": "code",
   "execution_count": 6,
   "id": "0c0d5e3e",
   "metadata": {},
   "outputs": [],
   "source": [
    "words_split=[]\n",
    "for word in words: \n",
    "    words_split.append(list(word)) #A, P, P, L, E"
   ]
  },
  {
   "cell_type": "code",
   "execution_count": 7,
   "id": "743e9e4a",
   "metadata": {},
   "outputs": [],
   "source": [
    "df=pd.DataFrame(words_split)\n",
    "df.columns = ['Letter1', 'Letter2', 'Letter3', 'Letter4', 'Letter5']"
   ]
  },
  {
   "cell_type": "code",
   "execution_count": 8,
   "id": "1facf629",
   "metadata": {},
   "outputs": [
    {
     "data": {
      "text/html": [
       "<div>\n",
       "<style scoped>\n",
       "    .dataframe tbody tr th:only-of-type {\n",
       "        vertical-align: middle;\n",
       "    }\n",
       "\n",
       "    .dataframe tbody tr th {\n",
       "        vertical-align: top;\n",
       "    }\n",
       "\n",
       "    .dataframe thead th {\n",
       "        text-align: right;\n",
       "    }\n",
       "</style>\n",
       "<table border=\"1\" class=\"dataframe\">\n",
       "  <thead>\n",
       "    <tr style=\"text-align: right;\">\n",
       "      <th></th>\n",
       "      <th>Letter1</th>\n",
       "      <th>Letter2</th>\n",
       "      <th>Letter3</th>\n",
       "      <th>Letter4</th>\n",
       "      <th>Letter5</th>\n",
       "      <th>Word</th>\n",
       "    </tr>\n",
       "  </thead>\n",
       "  <tbody>\n",
       "    <tr>\n",
       "      <th>0</th>\n",
       "      <td>a</td>\n",
       "      <td>b</td>\n",
       "      <td>a</td>\n",
       "      <td>c</td>\n",
       "      <td>k</td>\n",
       "      <td>aback</td>\n",
       "    </tr>\n",
       "    <tr>\n",
       "      <th>1</th>\n",
       "      <td>a</td>\n",
       "      <td>b</td>\n",
       "      <td>a</td>\n",
       "      <td>s</td>\n",
       "      <td>e</td>\n",
       "      <td>abase</td>\n",
       "    </tr>\n",
       "    <tr>\n",
       "      <th>2</th>\n",
       "      <td>a</td>\n",
       "      <td>b</td>\n",
       "      <td>a</td>\n",
       "      <td>t</td>\n",
       "      <td>e</td>\n",
       "      <td>abate</td>\n",
       "    </tr>\n",
       "    <tr>\n",
       "      <th>3</th>\n",
       "      <td>a</td>\n",
       "      <td>b</td>\n",
       "      <td>b</td>\n",
       "      <td>e</td>\n",
       "      <td>y</td>\n",
       "      <td>abbey</td>\n",
       "    </tr>\n",
       "    <tr>\n",
       "      <th>4</th>\n",
       "      <td>a</td>\n",
       "      <td>b</td>\n",
       "      <td>b</td>\n",
       "      <td>o</td>\n",
       "      <td>t</td>\n",
       "      <td>abbot</td>\n",
       "    </tr>\n",
       "    <tr>\n",
       "      <th>...</th>\n",
       "      <td>...</td>\n",
       "      <td>...</td>\n",
       "      <td>...</td>\n",
       "      <td>...</td>\n",
       "      <td>...</td>\n",
       "      <td>...</td>\n",
       "    </tr>\n",
       "    <tr>\n",
       "      <th>2304</th>\n",
       "      <td>y</td>\n",
       "      <td>o</td>\n",
       "      <td>u</td>\n",
       "      <td>n</td>\n",
       "      <td>g</td>\n",
       "      <td>young</td>\n",
       "    </tr>\n",
       "    <tr>\n",
       "      <th>2305</th>\n",
       "      <td>y</td>\n",
       "      <td>o</td>\n",
       "      <td>u</td>\n",
       "      <td>t</td>\n",
       "      <td>h</td>\n",
       "      <td>youth</td>\n",
       "    </tr>\n",
       "    <tr>\n",
       "      <th>2306</th>\n",
       "      <td>z</td>\n",
       "      <td>e</td>\n",
       "      <td>b</td>\n",
       "      <td>r</td>\n",
       "      <td>a</td>\n",
       "      <td>zebra</td>\n",
       "    </tr>\n",
       "    <tr>\n",
       "      <th>2307</th>\n",
       "      <td>z</td>\n",
       "      <td>e</td>\n",
       "      <td>s</td>\n",
       "      <td>t</td>\n",
       "      <td>y</td>\n",
       "      <td>zesty</td>\n",
       "    </tr>\n",
       "    <tr>\n",
       "      <th>2308</th>\n",
       "      <td>z</td>\n",
       "      <td>o</td>\n",
       "      <td>n</td>\n",
       "      <td>a</td>\n",
       "      <td>l</td>\n",
       "      <td>zonal</td>\n",
       "    </tr>\n",
       "  </tbody>\n",
       "</table>\n",
       "<p>2309 rows × 6 columns</p>\n",
       "</div>"
      ],
      "text/plain": [
       "     Letter1 Letter2 Letter3 Letter4 Letter5   Word\n",
       "0          a       b       a       c       k  aback\n",
       "1          a       b       a       s       e  abase\n",
       "2          a       b       a       t       e  abate\n",
       "3          a       b       b       e       y  abbey\n",
       "4          a       b       b       o       t  abbot\n",
       "...      ...     ...     ...     ...     ...    ...\n",
       "2304       y       o       u       n       g  young\n",
       "2305       y       o       u       t       h  youth\n",
       "2306       z       e       b       r       a  zebra\n",
       "2307       z       e       s       t       y  zesty\n",
       "2308       z       o       n       a       l  zonal\n",
       "\n",
       "[2309 rows x 6 columns]"
      ]
     },
     "execution_count": 8,
     "metadata": {},
     "output_type": "execute_result"
    }
   ],
   "source": [
    "df['Word'] = words\n",
    "df"
   ]
  },
  {
   "cell_type": "code",
   "execution_count": 9,
   "id": "482637a8",
   "metadata": {},
   "outputs": [],
   "source": [
    "#f1 = Counter(df.Letter1) ---> {'z':3, 'y':35 ...}\n",
    "#f2 = Counter(df.Letter2)\n",
    "#f3 = Counter(df.Letter3)\n",
    "#f4 = Counter(df.Letter4)\n",
    "#f5 = Counter(df.Letter5)\n",
    "\n",
    "for i in range(5):\n",
    "    exec(f'f{i+1} = Counter(df.Letter{i+1})')\n"
   ]
  },
  {
   "cell_type": "code",
   "execution_count": 10,
   "id": "bbd957d9",
   "metadata": {},
   "outputs": [],
   "source": [
    "word_scores=[]\n",
    "\n",
    "#for word in words: #apple --> f1['a']+f2['p']+f3['p']+f4['l']+f5['e']\n",
    "#    score=f1[word[0]]+f2[word[1]]+f3[word[2]]+f4[word[3]]+f5[word[4]]\n",
    "#    word_scores.append([word, score])\n",
    "\n",
    "for word in words:\n",
    "    score=0\n",
    "    for i in range(5):\n",
    "        score+= eval(f'f{i+1}[word[{i}]]')\n",
    "    word_scores.append([word, score])\n",
    "\n",
    "\n",
    "        "
   ]
  },
  {
   "cell_type": "code",
   "execution_count": 11,
   "id": "4af368cd",
   "metadata": {},
   "outputs": [
    {
     "data": {
      "text/html": [
       "<div>\n",
       "<style scoped>\n",
       "    .dataframe tbody tr th:only-of-type {\n",
       "        vertical-align: middle;\n",
       "    }\n",
       "\n",
       "    .dataframe tbody tr th {\n",
       "        vertical-align: top;\n",
       "    }\n",
       "\n",
       "    .dataframe thead th {\n",
       "        text-align: right;\n",
       "    }\n",
       "</style>\n",
       "<table border=\"1\" class=\"dataframe\">\n",
       "  <thead>\n",
       "    <tr style=\"text-align: right;\">\n",
       "      <th></th>\n",
       "      <th>Word</th>\n",
       "      <th>Score</th>\n",
       "    </tr>\n",
       "  </thead>\n",
       "  <tbody>\n",
       "    <tr>\n",
       "      <th>1773</th>\n",
       "      <td>slate</td>\n",
       "      <td>1432</td>\n",
       "    </tr>\n",
       "    <tr>\n",
       "      <th>1644</th>\n",
       "      <td>sauce</td>\n",
       "      <td>1406</td>\n",
       "    </tr>\n",
       "    <tr>\n",
       "      <th>1778</th>\n",
       "      <td>slice</td>\n",
       "      <td>1403</td>\n",
       "    </tr>\n",
       "    <tr>\n",
       "      <th>1700</th>\n",
       "      <td>shale</td>\n",
       "      <td>1399</td>\n",
       "    </tr>\n",
       "    <tr>\n",
       "      <th>1647</th>\n",
       "      <td>saute</td>\n",
       "      <td>1395</td>\n",
       "    </tr>\n",
       "    <tr>\n",
       "      <th>1837</th>\n",
       "      <td>sooty</td>\n",
       "      <td>1390</td>\n",
       "    </tr>\n",
       "    <tr>\n",
       "      <th>1707</th>\n",
       "      <td>share</td>\n",
       "      <td>1387</td>\n",
       "    </tr>\n",
       "    <tr>\n",
       "      <th>1722</th>\n",
       "      <td>shine</td>\n",
       "      <td>1379</td>\n",
       "    </tr>\n",
       "    <tr>\n",
       "      <th>1958</th>\n",
       "      <td>suite</td>\n",
       "      <td>1377</td>\n",
       "    </tr>\n",
       "    <tr>\n",
       "      <th>457</th>\n",
       "      <td>crane</td>\n",
       "      <td>1375</td>\n",
       "    </tr>\n",
       "  </tbody>\n",
       "</table>\n",
       "</div>"
      ],
      "text/plain": [
       "       Word  Score\n",
       "1773  slate   1432\n",
       "1644  sauce   1406\n",
       "1778  slice   1403\n",
       "1700  shale   1399\n",
       "1647  saute   1395\n",
       "1837  sooty   1390\n",
       "1707  share   1387\n",
       "1722  shine   1379\n",
       "1958  suite   1377\n",
       "457   crane   1375"
      ]
     },
     "execution_count": 11,
     "metadata": {},
     "output_type": "execute_result"
    }
   ],
   "source": [
    "scoredf = pd.DataFrame(word_scores)\n",
    "scoredf.columns = ['Word', 'Score']\n",
    "scoredf.sort_values(by='Score', ascending=False).head(10)"
   ]
  },
  {
   "cell_type": "markdown",
   "id": "2986199f",
   "metadata": {},
   "source": [
    "### 4. Our next guess\n"
   ]
  },
  {
   "cell_type": "markdown",
   "id": "ba7223ea",
   "metadata": {},
   "source": [
    "***TASK:***\n",
    "\n",
    "Assume we chose the word with highest score to start the game, and the result is 🟨🟨⬜️⬜️🟨. Find out our next best guess based on the score calculated."
   ]
  },
  {
   "cell_type": "markdown",
   "id": "7c305925",
   "metadata": {},
   "source": [
    "Using the word `SLATE` gives us 🟨🟨⬜️⬜️🟨, that means `S`, `L`, `E`, are within the answer while `A` and `T` are not."
   ]
  },
  {
   "cell_type": "code",
   "execution_count": 14,
   "id": "e9dbf426",
   "metadata": {},
   "outputs": [
    {
     "data": {
      "text/html": [
       "<div>\n",
       "<style scoped>\n",
       "    .dataframe tbody tr th:only-of-type {\n",
       "        vertical-align: middle;\n",
       "    }\n",
       "\n",
       "    .dataframe tbody tr th {\n",
       "        vertical-align: top;\n",
       "    }\n",
       "\n",
       "    .dataframe thead th {\n",
       "        text-align: right;\n",
       "    }\n",
       "</style>\n",
       "<table border=\"1\" class=\"dataframe\">\n",
       "  <thead>\n",
       "    <tr style=\"text-align: right;\">\n",
       "      <th></th>\n",
       "      <th>Letter1</th>\n",
       "      <th>Letter2</th>\n",
       "      <th>Letter3</th>\n",
       "      <th>Letter4</th>\n",
       "      <th>Letter5</th>\n",
       "      <th>Word</th>\n",
       "    </tr>\n",
       "  </thead>\n",
       "  <tbody>\n",
       "    <tr>\n",
       "      <th>168</th>\n",
       "      <td>b</td>\n",
       "      <td>e</td>\n",
       "      <td>e</td>\n",
       "      <td>c</td>\n",
       "      <td>h</td>\n",
       "      <td>beech</td>\n",
       "    </tr>\n",
       "    <tr>\n",
       "      <th>169</th>\n",
       "      <td>b</td>\n",
       "      <td>e</td>\n",
       "      <td>e</td>\n",
       "      <td>f</td>\n",
       "      <td>y</td>\n",
       "      <td>beefy</td>\n",
       "    </tr>\n",
       "    <tr>\n",
       "      <th>174</th>\n",
       "      <td>b</td>\n",
       "      <td>e</td>\n",
       "      <td>g</td>\n",
       "      <td>i</td>\n",
       "      <td>n</td>\n",
       "      <td>begin</td>\n",
       "    </tr>\n",
       "    <tr>\n",
       "      <th>175</th>\n",
       "      <td>b</td>\n",
       "      <td>e</td>\n",
       "      <td>g</td>\n",
       "      <td>u</td>\n",
       "      <td>n</td>\n",
       "      <td>begun</td>\n",
       "    </tr>\n",
       "    <tr>\n",
       "      <th>176</th>\n",
       "      <td>b</td>\n",
       "      <td>e</td>\n",
       "      <td>i</td>\n",
       "      <td>n</td>\n",
       "      <td>g</td>\n",
       "      <td>being</td>\n",
       "    </tr>\n",
       "    <tr>\n",
       "      <th>...</th>\n",
       "      <td>...</td>\n",
       "      <td>...</td>\n",
       "      <td>...</td>\n",
       "      <td>...</td>\n",
       "      <td>...</td>\n",
       "      <td>...</td>\n",
       "    </tr>\n",
       "    <tr>\n",
       "      <th>2296</th>\n",
       "      <td>w</td>\n",
       "      <td>r</td>\n",
       "      <td>o</td>\n",
       "      <td>n</td>\n",
       "      <td>g</td>\n",
       "      <td>wrong</td>\n",
       "    </tr>\n",
       "    <tr>\n",
       "      <th>2298</th>\n",
       "      <td>w</td>\n",
       "      <td>r</td>\n",
       "      <td>u</td>\n",
       "      <td>n</td>\n",
       "      <td>g</td>\n",
       "      <td>wrung</td>\n",
       "    </tr>\n",
       "    <tr>\n",
       "      <th>2299</th>\n",
       "      <td>w</td>\n",
       "      <td>r</td>\n",
       "      <td>y</td>\n",
       "      <td>l</td>\n",
       "      <td>y</td>\n",
       "      <td>wryly</td>\n",
       "    </tr>\n",
       "    <tr>\n",
       "      <th>2303</th>\n",
       "      <td>y</td>\n",
       "      <td>i</td>\n",
       "      <td>e</td>\n",
       "      <td>l</td>\n",
       "      <td>d</td>\n",
       "      <td>yield</td>\n",
       "    </tr>\n",
       "    <tr>\n",
       "      <th>2304</th>\n",
       "      <td>y</td>\n",
       "      <td>o</td>\n",
       "      <td>u</td>\n",
       "      <td>n</td>\n",
       "      <td>g</td>\n",
       "      <td>young</td>\n",
       "    </tr>\n",
       "  </tbody>\n",
       "</table>\n",
       "<p>993 rows × 6 columns</p>\n",
       "</div>"
      ],
      "text/plain": [
       "     Letter1 Letter2 Letter3 Letter4 Letter5   Word\n",
       "168        b       e       e       c       h  beech\n",
       "169        b       e       e       f       y  beefy\n",
       "174        b       e       g       i       n  begin\n",
       "175        b       e       g       u       n  begun\n",
       "176        b       e       i       n       g  being\n",
       "...      ...     ...     ...     ...     ...    ...\n",
       "2296       w       r       o       n       g  wrong\n",
       "2298       w       r       u       n       g  wrung\n",
       "2299       w       r       y       l       y  wryly\n",
       "2303       y       i       e       l       d  yield\n",
       "2304       y       o       u       n       g  young\n",
       "\n",
       "[993 rows x 6 columns]"
      ]
     },
     "execution_count": 14,
     "metadata": {},
     "output_type": "execute_result"
    }
   ],
   "source": [
    "#filter out words that contains A or T\n",
    "\n",
    "filtered_df = df[~df.apply(lambda row: row.isin(['a', 't']).any(), axis=1)]\n",
    "filtered_df\n",
    "\n",
    "'''\n",
    "def contains_a_t(row):\n",
    "    return 'a' in row.values or 't' in row.values\n",
    "\n",
    "filtered_df = df[~df.apply(contains_a_t, axis=1)]\n",
    "filtered_df\n",
    "'''"
   ]
  },
  {
   "cell_type": "code",
   "execution_count": 26,
   "id": "8d8d51db",
   "metadata": {
    "scrolled": true
   },
   "outputs": [
    {
     "data": {
      "text/html": [
       "<div>\n",
       "<style scoped>\n",
       "    .dataframe tbody tr th:only-of-type {\n",
       "        vertical-align: middle;\n",
       "    }\n",
       "\n",
       "    .dataframe tbody tr th {\n",
       "        vertical-align: top;\n",
       "    }\n",
       "\n",
       "    .dataframe thead th {\n",
       "        text-align: right;\n",
       "    }\n",
       "</style>\n",
       "<table border=\"1\" class=\"dataframe\">\n",
       "  <thead>\n",
       "    <tr style=\"text-align: right;\">\n",
       "      <th></th>\n",
       "      <th>Letter1</th>\n",
       "      <th>Letter2</th>\n",
       "      <th>Letter3</th>\n",
       "      <th>Letter4</th>\n",
       "      <th>Letter5</th>\n",
       "      <th>Word</th>\n",
       "    </tr>\n",
       "  </thead>\n",
       "  <tbody>\n",
       "    <tr>\n",
       "      <th>168</th>\n",
       "      <td>b</td>\n",
       "      <td>e</td>\n",
       "      <td>e</td>\n",
       "      <td>c</td>\n",
       "      <td>h</td>\n",
       "      <td>beech</td>\n",
       "    </tr>\n",
       "    <tr>\n",
       "      <th>169</th>\n",
       "      <td>b</td>\n",
       "      <td>e</td>\n",
       "      <td>e</td>\n",
       "      <td>f</td>\n",
       "      <td>y</td>\n",
       "      <td>beefy</td>\n",
       "    </tr>\n",
       "    <tr>\n",
       "      <th>174</th>\n",
       "      <td>b</td>\n",
       "      <td>e</td>\n",
       "      <td>g</td>\n",
       "      <td>i</td>\n",
       "      <td>n</td>\n",
       "      <td>begin</td>\n",
       "    </tr>\n",
       "    <tr>\n",
       "      <th>175</th>\n",
       "      <td>b</td>\n",
       "      <td>e</td>\n",
       "      <td>g</td>\n",
       "      <td>u</td>\n",
       "      <td>n</td>\n",
       "      <td>begun</td>\n",
       "    </tr>\n",
       "    <tr>\n",
       "      <th>176</th>\n",
       "      <td>b</td>\n",
       "      <td>e</td>\n",
       "      <td>i</td>\n",
       "      <td>n</td>\n",
       "      <td>g</td>\n",
       "      <td>being</td>\n",
       "    </tr>\n",
       "    <tr>\n",
       "      <th>...</th>\n",
       "      <td>...</td>\n",
       "      <td>...</td>\n",
       "      <td>...</td>\n",
       "      <td>...</td>\n",
       "      <td>...</td>\n",
       "      <td>...</td>\n",
       "    </tr>\n",
       "    <tr>\n",
       "      <th>2296</th>\n",
       "      <td>w</td>\n",
       "      <td>r</td>\n",
       "      <td>o</td>\n",
       "      <td>n</td>\n",
       "      <td>g</td>\n",
       "      <td>wrong</td>\n",
       "    </tr>\n",
       "    <tr>\n",
       "      <th>2298</th>\n",
       "      <td>w</td>\n",
       "      <td>r</td>\n",
       "      <td>u</td>\n",
       "      <td>n</td>\n",
       "      <td>g</td>\n",
       "      <td>wrung</td>\n",
       "    </tr>\n",
       "    <tr>\n",
       "      <th>2299</th>\n",
       "      <td>w</td>\n",
       "      <td>r</td>\n",
       "      <td>y</td>\n",
       "      <td>l</td>\n",
       "      <td>y</td>\n",
       "      <td>wryly</td>\n",
       "    </tr>\n",
       "    <tr>\n",
       "      <th>2303</th>\n",
       "      <td>y</td>\n",
       "      <td>i</td>\n",
       "      <td>e</td>\n",
       "      <td>l</td>\n",
       "      <td>d</td>\n",
       "      <td>yield</td>\n",
       "    </tr>\n",
       "    <tr>\n",
       "      <th>2304</th>\n",
       "      <td>y</td>\n",
       "      <td>o</td>\n",
       "      <td>u</td>\n",
       "      <td>n</td>\n",
       "      <td>g</td>\n",
       "      <td>young</td>\n",
       "    </tr>\n",
       "  </tbody>\n",
       "</table>\n",
       "<p>598 rows × 6 columns</p>\n",
       "</div>"
      ],
      "text/plain": [
       "     Letter1 Letter2 Letter3 Letter4 Letter5   Word\n",
       "168        b       e       e       c       h  beech\n",
       "169        b       e       e       f       y  beefy\n",
       "174        b       e       g       i       n  begin\n",
       "175        b       e       g       u       n  begun\n",
       "176        b       e       i       n       g  being\n",
       "...      ...     ...     ...     ...     ...    ...\n",
       "2296       w       r       o       n       g  wrong\n",
       "2298       w       r       u       n       g  wrung\n",
       "2299       w       r       y       l       y  wryly\n",
       "2303       y       i       e       l       d  yield\n",
       "2304       y       o       u       n       g  young\n",
       "\n",
       "[598 rows x 6 columns]"
      ]
     },
     "execution_count": 26,
     "metadata": {},
     "output_type": "execute_result"
    }
   ],
   "source": [
    "#filter out words where S is the first letter, or L is the second letter, or E is the last letter.\n",
    "filtered_df=filtered_df.query('Letter1!=\"s\" and Letter2!=\"l\" and Letter5!=\"e\"')\n",
    "filtered_df"
   ]
  },
  {
   "cell_type": "code",
   "execution_count": 53,
   "id": "04f0de20",
   "metadata": {},
   "outputs": [
    {
     "data": {
      "text/html": [
       "<div>\n",
       "<style scoped>\n",
       "    .dataframe tbody tr th:only-of-type {\n",
       "        vertical-align: middle;\n",
       "    }\n",
       "\n",
       "    .dataframe tbody tr th {\n",
       "        vertical-align: top;\n",
       "    }\n",
       "\n",
       "    .dataframe thead th {\n",
       "        text-align: right;\n",
       "    }\n",
       "</style>\n",
       "<table border=\"1\" class=\"dataframe\">\n",
       "  <thead>\n",
       "    <tr style=\"text-align: right;\">\n",
       "      <th></th>\n",
       "      <th>Letter1</th>\n",
       "      <th>Letter2</th>\n",
       "      <th>Letter3</th>\n",
       "      <th>Letter4</th>\n",
       "      <th>Letter5</th>\n",
       "      <th>Word</th>\n",
       "    </tr>\n",
       "  </thead>\n",
       "  <tbody>\n",
       "    <tr>\n",
       "      <th>1153</th>\n",
       "      <td>l</td>\n",
       "      <td>o</td>\n",
       "      <td>s</td>\n",
       "      <td>e</td>\n",
       "      <td>r</td>\n",
       "      <td>loser</td>\n",
       "    </tr>\n",
       "    <tr>\n",
       "      <th>2238</th>\n",
       "      <td>w</td>\n",
       "      <td>e</td>\n",
       "      <td>l</td>\n",
       "      <td>s</td>\n",
       "      <td>h</td>\n",
       "      <td>welsh</td>\n",
       "    </tr>\n",
       "  </tbody>\n",
       "</table>\n",
       "</div>"
      ],
      "text/plain": [
       "     Letter1 Letter2 Letter3 Letter4 Letter5   Word\n",
       "1153       l       o       s       e       r  loser\n",
       "2238       w       e       l       s       h  welsh"
      ]
     },
     "execution_count": 53,
     "metadata": {},
     "output_type": "execute_result"
    }
   ],
   "source": [
    "#find words that contains S and L and E at the same time\n",
    "filtered_df=filtered_df[filtered_df.apply(lambda row: all(char in row.values for char in ['s', 'l', 'e']), axis=1)]\n",
    "filtered_df"
   ]
  },
  {
   "cell_type": "code",
   "execution_count": 54,
   "id": "abac527f",
   "metadata": {},
   "outputs": [
    {
     "data": {
      "text/html": [
       "<div>\n",
       "<style scoped>\n",
       "    .dataframe tbody tr th:only-of-type {\n",
       "        vertical-align: middle;\n",
       "    }\n",
       "\n",
       "    .dataframe tbody tr th {\n",
       "        vertical-align: top;\n",
       "    }\n",
       "\n",
       "    .dataframe thead th {\n",
       "        text-align: right;\n",
       "    }\n",
       "</style>\n",
       "<table border=\"1\" class=\"dataframe\">\n",
       "  <thead>\n",
       "    <tr style=\"text-align: right;\">\n",
       "      <th></th>\n",
       "      <th>Word</th>\n",
       "      <th>Score</th>\n",
       "      <th>Letter1</th>\n",
       "      <th>Letter2</th>\n",
       "      <th>Letter3</th>\n",
       "      <th>Letter4</th>\n",
       "      <th>Letter5</th>\n",
       "    </tr>\n",
       "  </thead>\n",
       "  <tbody>\n",
       "    <tr>\n",
       "      <th>0</th>\n",
       "      <td>loser</td>\n",
       "      <td>976</td>\n",
       "      <td>l</td>\n",
       "      <td>o</td>\n",
       "      <td>s</td>\n",
       "      <td>e</td>\n",
       "      <td>r</td>\n",
       "    </tr>\n",
       "    <tr>\n",
       "      <th>1</th>\n",
       "      <td>welsh</td>\n",
       "      <td>743</td>\n",
       "      <td>w</td>\n",
       "      <td>e</td>\n",
       "      <td>l</td>\n",
       "      <td>s</td>\n",
       "      <td>h</td>\n",
       "    </tr>\n",
       "  </tbody>\n",
       "</table>\n",
       "</div>"
      ],
      "text/plain": [
       "    Word  Score Letter1 Letter2 Letter3 Letter4 Letter5\n",
       "0  loser    976       l       o       s       e       r\n",
       "1  welsh    743       w       e       l       s       h"
      ]
     },
     "execution_count": 54,
     "metadata": {},
     "output_type": "execute_result"
    }
   ],
   "source": [
    "scoredf.merge(filtered_df)"
   ]
  },
  {
   "cell_type": "markdown",
   "id": "d599e662",
   "metadata": {},
   "source": [
    "So our next guess is `LOSER`:\\)\n"
   ]
  },
  {
   "cell_type": "markdown",
   "id": "462b514a",
   "metadata": {},
   "source": [
    "### ***Extra:***\n",
    "\n",
    "1. If we stick to this approach, can you check if we can find the answer in 6 guesses for all cases? **Simulate all games (code below for reference)**\n",
    "2. Is this the best way to find our guess? Can you think of better ways?\n",
    "**How good a guess is can be defined as how this word can potentially narrow down our search space. Watch this to know more: https://www.youtube.com/watch?v=v68zYyaEmEA**\n"
   ]
  },
  {
   "cell_type": "markdown",
   "id": "8f8a2f46",
   "metadata": {},
   "source": [
    "#### Game Simulation:"
   ]
  },
  {
   "cell_type": "code",
   "execution_count": 17,
   "id": "cd721106",
   "metadata": {},
   "outputs": [],
   "source": [
    "#Merge the df and save it for rerun in future\n",
    "mergeddf = df.merge(scoredf).sort_values(by='Score', ascending=False)\n",
    "mergeddf.to_csv('wordscore.csv', index = False)"
   ]
  },
  {
   "cell_type": "code",
   "execution_count": 19,
   "id": "88f84064",
   "metadata": {},
   "outputs": [
    {
     "data": {
      "text/html": [
       "<div>\n",
       "<style scoped>\n",
       "    .dataframe tbody tr th:only-of-type {\n",
       "        vertical-align: middle;\n",
       "    }\n",
       "\n",
       "    .dataframe tbody tr th {\n",
       "        vertical-align: top;\n",
       "    }\n",
       "\n",
       "    .dataframe thead th {\n",
       "        text-align: right;\n",
       "    }\n",
       "</style>\n",
       "<table border=\"1\" class=\"dataframe\">\n",
       "  <thead>\n",
       "    <tr style=\"text-align: right;\">\n",
       "      <th></th>\n",
       "      <th>Letter1</th>\n",
       "      <th>Letter2</th>\n",
       "      <th>Letter3</th>\n",
       "      <th>Letter4</th>\n",
       "      <th>Letter5</th>\n",
       "      <th>Word</th>\n",
       "      <th>Score</th>\n",
       "    </tr>\n",
       "  </thead>\n",
       "  <tbody>\n",
       "    <tr>\n",
       "      <th>0</th>\n",
       "      <td>s</td>\n",
       "      <td>l</td>\n",
       "      <td>a</td>\n",
       "      <td>t</td>\n",
       "      <td>e</td>\n",
       "      <td>slate</td>\n",
       "      <td>1432</td>\n",
       "    </tr>\n",
       "    <tr>\n",
       "      <th>1</th>\n",
       "      <td>s</td>\n",
       "      <td>a</td>\n",
       "      <td>u</td>\n",
       "      <td>c</td>\n",
       "      <td>e</td>\n",
       "      <td>sauce</td>\n",
       "      <td>1406</td>\n",
       "    </tr>\n",
       "    <tr>\n",
       "      <th>2</th>\n",
       "      <td>s</td>\n",
       "      <td>l</td>\n",
       "      <td>i</td>\n",
       "      <td>c</td>\n",
       "      <td>e</td>\n",
       "      <td>slice</td>\n",
       "      <td>1403</td>\n",
       "    </tr>\n",
       "    <tr>\n",
       "      <th>3</th>\n",
       "      <td>s</td>\n",
       "      <td>h</td>\n",
       "      <td>a</td>\n",
       "      <td>l</td>\n",
       "      <td>e</td>\n",
       "      <td>shale</td>\n",
       "      <td>1399</td>\n",
       "    </tr>\n",
       "    <tr>\n",
       "      <th>4</th>\n",
       "      <td>s</td>\n",
       "      <td>a</td>\n",
       "      <td>u</td>\n",
       "      <td>t</td>\n",
       "      <td>e</td>\n",
       "      <td>saute</td>\n",
       "      <td>1395</td>\n",
       "    </tr>\n",
       "  </tbody>\n",
       "</table>\n",
       "</div>"
      ],
      "text/plain": [
       "  Letter1 Letter2 Letter3 Letter4 Letter5   Word  Score\n",
       "0       s       l       a       t       e  slate   1432\n",
       "1       s       a       u       c       e  sauce   1406\n",
       "2       s       l       i       c       e  slice   1403\n",
       "3       s       h       a       l       e  shale   1399\n",
       "4       s       a       u       t       e  saute   1395"
      ]
     },
     "execution_count": 19,
     "metadata": {},
     "output_type": "execute_result"
    }
   ],
   "source": [
    "#Read the csv\n",
    "expdf = pd.read_csv('wordscore.csv')\n",
    "expdf.head()"
   ]
  },
  {
   "cell_type": "code",
   "execution_count": 66,
   "id": "d2ac221d",
   "metadata": {},
   "outputs": [],
   "source": [
    "#Redefine comparison function\n",
    "def compare(guess, answer): #return list of tuples, first item in tuple represents: 0. Green, 1. Yellow, 2. White\n",
    "    result = []\n",
    "    for i in range(len(guess)):\n",
    "        if guess[i] == answer[i]:\n",
    "            result.append((0, i, guess[i])) #Green\n",
    "        elif guess[i] in answer:\n",
    "            result.append((1, i, guess[i])) #Yellow\n",
    "        else:\n",
    "            result.append((2, i, guess[i])) #White\n",
    "    return result\n",
    "\n",
    "#Define function to automatically get next guess\n",
    "def get_next_guess(info, df): #info: list of tuples that contains compare results\n",
    "    for color, pos, char in info:\n",
    "        if color == 0: #Green\n",
    "            df = df.query(f\"Letter{pos+1}=='{char}'\")\n",
    "        elif color == 1: #Yellow\n",
    "            df = df.query(f\"Letter{pos+1}!='{char}'\") #Not at same pos\n",
    "            df = df[df.apply(lambda row: char in row.values, axis=1)] #char still in answer\n",
    "        else: df = df[df.apply(lambda row: char not in row.values, axis=1)] #White\n",
    "    return df.sort_values(by='Score', ascending=False)\n",
    "\n",
    "#Test function to simulate an automatic game\n",
    "def test_simulate(answer, df):\n",
    "    count = 0\n",
    "    info = []\n",
    "    colormap = {0:\"\\U0001F7E9\", 1:\"\\U0001F7E8\", 2:\"\\U00002B1C\"}\n",
    "    while True:\n",
    "        df = get_next_guess(info, df)\n",
    "        count+=1\n",
    "        df = df.reset_index(drop=True)\n",
    "        guess = df.loc[0, 'Word']\n",
    "        print(f'Guess {count}: {guess}', end = \" //\")\n",
    "        info = compare(guess, answer)\n",
    "        print(f' Result: {\"\".join([colormap[item[0]] for item in info])}')\n",
    "        if sum(item[0] for item in info) == 0: \n",
    "            print(f'Solved in {count} guesses.')\n",
    "            return count"
   ]
  },
  {
   "cell_type": "code",
   "execution_count": 68,
   "id": "942e85a2",
   "metadata": {},
   "outputs": [
    {
     "name": "stdout",
     "output_type": "stream",
     "text": [
      "Guess 1: slate // Result: ⬜⬜🟨⬜🟨\n",
      "Guess 2: cagey // Result: ⬜🟨⬜🟨⬜\n",
      "Guess 3: bread // Result: 🟩🟩🟩🟩⬜\n",
      "Guess 4: break // Result: 🟩🟩🟩🟩🟩\n",
      "Solved in 4 guesses.\n"
     ]
    },
    {
     "data": {
      "text/plain": [
       "4"
      ]
     },
     "execution_count": 68,
     "metadata": {},
     "output_type": "execute_result"
    }
   ],
   "source": [
    "#Simulate game 1\n",
    "test_simulate('break', expdf)"
   ]
  },
  {
   "cell_type": "code",
   "execution_count": 69,
   "id": "a18b9099",
   "metadata": {},
   "outputs": [
    {
     "name": "stdout",
     "output_type": "stream",
     "text": [
      "Guess 1: slate // Result: ⬜⬜⬜⬜⬜\n",
      "Guess 2: crony // Result: ⬜⬜⬜⬜⬜\n",
      "Guess 3: humid // Result: ⬜⬜⬜🟩🟩\n",
      "Guess 4: vivid // Result: 🟩🟩🟩🟩🟩\n",
      "Solved in 4 guesses.\n"
     ]
    },
    {
     "data": {
      "text/plain": [
       "4"
      ]
     },
     "execution_count": 69,
     "metadata": {},
     "output_type": "execute_result"
    }
   ],
   "source": [
    "#Simulate game 2\n",
    "test_simulate('vivid', expdf)"
   ]
  },
  {
   "cell_type": "code",
   "execution_count": 70,
   "id": "80781260",
   "metadata": {},
   "outputs": [],
   "source": [
    "#Simplify simulate function to remove printing\n",
    "def simulate(answer, df):\n",
    "    count = 0\n",
    "    info = []\n",
    "    while True:\n",
    "        df = get_next_guess(info, df)\n",
    "        count+=1\n",
    "        df = df.reset_index(drop=True)\n",
    "        guess = df.loc[0, 'Word']\n",
    "        info = compare(guess, answer)\n",
    "        if sum(item[0] for item in info) == 0:\n",
    "            return count"
   ]
  },
  {
   "cell_type": "code",
   "execution_count": 113,
   "id": "54fe978c",
   "metadata": {},
   "outputs": [
    {
     "name": "stdout",
     "output_type": "stream",
     "text": [
      "Game 0 completed\n",
      "Game 50 completed\n",
      "Game 100 completed\n",
      "Game 150 completed\n",
      "Game 200 completed\n",
      "Game 250 completed\n",
      "Game 300 completed\n",
      "Game 350 completed\n",
      "Game 400 completed\n",
      "Game 450 completed\n",
      "Game 500 completed\n",
      "Game 550 completed\n",
      "Game 600 completed\n",
      "Game 650 completed\n",
      "Game 700 completed\n",
      "Game 750 completed\n",
      "Game 800 completed\n",
      "Game 850 completed\n",
      "Game 900 completed\n",
      "Game 950 completed\n",
      "Game 1000 completed\n",
      "Game 1050 completed\n",
      "Game 1100 completed\n",
      "Game 1150 completed\n",
      "Game 1200 completed\n",
      "Game 1250 completed\n",
      "Game 1300 completed\n",
      "Game 1350 completed\n",
      "Game 1400 completed\n",
      "Game 1450 completed\n",
      "Game 1500 completed\n",
      "Game 1550 completed\n",
      "Game 1600 completed\n",
      "Game 1650 completed\n",
      "Game 1700 completed\n",
      "Game 1750 completed\n",
      "Game 1800 completed\n",
      "Game 1850 completed\n",
      "Game 1900 completed\n",
      "Game 1950 completed\n",
      "Game 2000 completed\n",
      "Game 2050 completed\n",
      "Game 2100 completed\n",
      "Game 2150 completed\n",
      "Game 2200 completed\n",
      "Game 2250 completed\n",
      "Game 2300 completed\n"
     ]
    },
    {
     "data": {
      "text/plain": [
       "2309"
      ]
     },
     "execution_count": 113,
     "metadata": {},
     "output_type": "execute_result"
    }
   ],
   "source": [
    "#Run the simulations\n",
    "res = []\n",
    "words = expdf.Word.values.copy()\n",
    "for i in range(len(words)):\n",
    "    res.append(simulate(words[i], expdf))\n",
    "    if i%50 ==0:\n",
    "        print(f\"Game {i} completed\")\n",
    "len(res)"
   ]
  },
  {
   "cell_type": "code",
   "execution_count": 96,
   "id": "cc001957",
   "metadata": {},
   "outputs": [
    {
     "name": "stdout",
     "output_type": "stream",
     "text": [
      "Solved in 1 guess(s): 1\n",
      "Solved in 2 guess(s): 145\n",
      "Solved in 3 guess(s): 768\n",
      "Solved in 4 guess(s): 903\n",
      "Solved in 5 guess(s): 357\n",
      "Solved in 6 guess(s): 107\n",
      "Solved in 7 guess(s): 24\n",
      "Solved in 8 guess(s): 4\n"
     ]
    }
   ],
   "source": [
    "for guess, count in sorted(Counter(res).items()):\n",
    "    print(f'Solved in {guess} guess(s): {count}')"
   ]
  },
  {
   "cell_type": "code",
   "execution_count": 114,
   "id": "b6bc4338",
   "metadata": {},
   "outputs": [
    {
     "data": {
      "image/png": "[encoded data removed]",
      "text/plain": [
       "<Figure size 640x480 with 1 Axes>"
      ]
     },
     "metadata": {},
     "output_type": "display_data"
    }
   ],
   "source": [
    "#Create a bar plot to show simulation results\n",
    "import matplotlib.pyplot as plt\n",
    "plt.bar(Counter(res).keys(), Counter(res).values())\n",
    "plt.show()"
   ]
  },
  {
   "cell_type": "code",
   "execution_count": 88,
   "id": "00c18e7d",
   "metadata": {},
   "outputs": [
    {
     "data": {
      "text/plain": [
       "3.825898657427458"
      ]
     },
     "execution_count": 88,
     "metadata": {},
     "output_type": "execute_result"
    }
   ],
   "source": [
    "#Average guesses needed\n",
    "sum(res)/len(res)"
   ]
  },
  {
   "cell_type": "code",
   "execution_count": 91,
   "id": "fcc52158",
   "metadata": {},
   "outputs": [
    {
     "data": {
      "text/plain": [
       "0.9878735383282806"
      ]
     },
     "execution_count": 91,
     "metadata": {},
     "output_type": "execute_result"
    }
   ],
   "source": [
    "#Percentage of games that can solved within 6 tries\n",
    "1-len([num for num in res if num > 6])/len(res)"
   ]
  },
  {
   "cell_type": "markdown",
   "id": "54f5480f",
   "metadata": {},
   "source": [
    "# Final Exam Tips"
   ]
  },
  {
   "cell_type": "markdown",
   "id": "81c0d5a1",
   "metadata": {},
   "source": [
    "1. Go through all slides and exercises again, make sure you understand everything\n",
    "2. Redo all assignments, WITHOUT the use of AI (Time it if you can)\n",
    "3. Prepare your own cheatsheet-like notebook. Focus on those that you are not familiar with / might take a long time to solve.\n",
    "4. Here is a sample study plan: https://app.eraser.io/workspace/d6Jk1GSF5MjbIPixTE34?origin=share\n",
    "5. Good luck!"
   ]
  }
 ],
 "metadata": {
  "kernelspec": {
   "display_name": "Python 3 (ipykernel)",
   "language": "python",
   "name": "python3"
  },
  "language_info": {
   "codemirror_mode": {
    "name": "ipython",
    "version": 3
   },
   "file_extension": ".py",
   "mimetype": "text/x-python",
   "name": "python",
   "nbconvert_exporter": "python",
   "pygments_lexer": "ipython3",
   "version": "3.12.4"
  }
 },
 "nbformat": 4,
 "nbformat_minor": 5
}
