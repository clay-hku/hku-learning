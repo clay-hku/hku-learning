{
 "cells": [
  {
   "cell_type": "markdown",
   "id": "a437163c",
   "metadata": {},
   "source": [
    "# Wordle Exercise"
   ]
  },
  {
   "cell_type": "markdown",
   "id": "c8f6f786",
   "metadata": {},
   "source": [
    "Wordle is a famous word game developed by Josh Wardle. Play it at https://www.nytimes.com/games/wordle/index.html\n",
    "\n",
    "Players have six guesses to find a five-letter word. After each guess the player will be shown a colour-coded version of their word.\n",
    "\n",
    "If each letter in the word is:\n",
    "\n",
    "- in the word and in the right place (shown as green) 🟩\n",
    "- in the word and in the wrong place (shown as yellow) 🟨\n",
    "- not in the word (shown as white) ⬜️\n",
    "\n",
    "Example:\n",
    "\n",
    "- 1st Guess : CRANE >> ⬜️🟩🟩🟨⬜️\n",
    "- 2nd Guess : SOLID >> ⬜️⬜️⬜️🟩⬜️\n",
    "- 3rd Guess: TRAIN >> ⬜️🟩🟩🟩🟩\n",
    "- 4th Guess: BRAIN >> 🟩🟩🟩🟩🟩\n",
    "\n",
    "Then player wins the game!"
   ]
  },
  {
   "cell_type": "markdown",
   "id": "e7b66e80",
   "metadata": {},
   "source": [
    "Your tasks are listed below: (Hints/suggestions are in the comments)"
   ]
  },
  {
   "cell_type": "code",
   "execution_count": null,
   "id": "d4342fa9",
   "metadata": {},
   "outputs": [],
   "source": [
    "#import packages"
   ]
  },
  {
   "cell_type": "markdown",
   "id": "6994597b",
   "metadata": {},
   "source": [
    "### 1. Comparing Guess and Answer\n"
   ]
  },
  {
   "cell_type": "markdown",
   "id": "08bf47f7",
   "metadata": {},
   "source": [
    "***TASK:*** \n",
    "\n",
    "Before we try to play the game, we want to first define a function that can compare a guess and the true answer and return the result.\n",
    "Define a function named `get_result(guess, answer)` and the output should be a list of 5 emojis.\n",
    "\n",
    "For example: `get_result('SOLID', 'MOLDY')` gives you ⬜🟩🟩⬜🟨, when put in a list, it would be `[\"\\U00002B1C\", \"\\U0001F7E9\", \"\\U0001F7E9\", \"\\U00002B1C\", \"\\U0001F7E8\"]`\n"
   ]
  },
  {
   "cell_type": "code",
   "execution_count": 4,
   "id": "a6d2c204",
   "metadata": {},
   "outputs": [
    {
     "name": "stdout",
     "output_type": "stream",
     "text": [
      "⬜🟩🟩⬜🟨"
     ]
    }
   ],
   "source": [
    "#Emojis for the game\n",
    "guess_result = [\"\\U00002B1C\", \"\\U0001F7E9\", \"\\U0001F7E9\", \"\\U00002B1C\", \"\\U0001F7E8\"]\n",
    "for emoji in guess_result:\n",
    "    print(emoji, end=\"\")"
   ]
  },
  {
   "cell_type": "code",
   "execution_count": 6,
   "id": "db380853",
   "metadata": {},
   "outputs": [],
   "source": [
    "def get_result(guess, answer):\n",
    "    #Write your code here\n",
    "    pass"
   ]
  },
  {
   "cell_type": "code",
   "execution_count": 2,
   "id": "cc18b9fe",
   "metadata": {},
   "outputs": [],
   "source": [
    "# \"\".join(get_result('SOLID', 'MOLDY')) >> Expected output: '⬜🟩🟩⬜🟨'"
   ]
  },
  {
   "cell_type": "code",
   "execution_count": 3,
   "id": "ea0da4a0",
   "metadata": {},
   "outputs": [],
   "source": [
    "# \"\".join(get_result('SPINE', 'STEAK')) >> Expected output: '🟩⬜⬜⬜🟨'"
   ]
  },
  {
   "cell_type": "markdown",
   "id": "66476e9e",
   "metadata": {},
   "source": [
    "### 2. Scrape list of Wordle words"
   ]
  },
  {
   "cell_type": "markdown",
   "id": "311d5f36",
   "metadata": {},
   "source": [
    "***TASK:*** \n",
    "\n",
    "Get all words from the website ('https://www.wordunscrambler.net/word-list/wordle-word-list') and store them in a list."
   ]
  },
  {
   "cell_type": "code",
   "execution_count": 2,
   "id": "dd8c598b",
   "metadata": {},
   "outputs": [],
   "source": [
    "#requests\n",
    "\n",
    "\n",
    "#check total number of words"
   ]
  },
  {
   "cell_type": "markdown",
   "id": "ef5a12ad",
   "metadata": {},
   "source": [
    "### 3. Choosing our first guess"
   ]
  },
  {
   "cell_type": "markdown",
   "id": "2b97800b",
   "metadata": {},
   "source": [
    "***TASK:*** \n",
    "\n",
    "In this part, we want to find the best first guess. We can first find the frequency of each character at each position. For example, 'a' appeared in the first letter 100 times, in the second letter 252 times, and so on. \n",
    "\n",
    "Then, for each valid word, we can calculate the word's score by using the frequencies of the character at the position. For example, the score of word `THING` can be represented by `number of valid words starts with T + number of valid words with H as 2nd letter + number of valid words with I as 3rd letter + number of valid words with N as 4th letter + number of valid words with G as 5th letter`.\n",
    "\n",
    "Finally, store all valid words and its scores in a DataFrame and find the word with the highest score."
   ]
  },
  {
   "cell_type": "code",
   "execution_count": 30,
   "id": "482637a8",
   "metadata": {},
   "outputs": [],
   "source": [
    "#Create frequency dictionaries and store in DataFrame"
   ]
  },
  {
   "cell_type": "markdown",
   "id": "2986199f",
   "metadata": {},
   "source": [
    "### 4. Our next guess\n"
   ]
  },
  {
   "cell_type": "markdown",
   "id": "ba7223ea",
   "metadata": {},
   "source": [
    "***TASK:***\n",
    "\n",
    "Assume we chose the word with highest score to start the game, and the result is 🟨🟨⬜️⬜️🟨. Find out our next best guess based on the score calculated."
   ]
  },
  {
   "cell_type": "code",
   "execution_count": null,
   "id": "863f5983",
   "metadata": {},
   "outputs": [],
   "source": [
    "#Consider the logic to filter the DataFrame"
   ]
  },
  {
   "cell_type": "markdown",
   "id": "e8f0b20a",
   "metadata": {},
   "source": [
    "### ***Extra:***\n",
    "\n",
    "1. If we stick to this approach, can you check if we can find the answer in 6 guesses for all cases?\n",
    "2. Is this the best way to find our guess? Can you think of better ways?"
   ]
  }
 ],
 "metadata": {
  "kernelspec": {
   "display_name": "Python 3 (ipykernel)",
   "language": "python",
   "name": "python3"
  },
  "language_info": {
   "codemirror_mode": {
    "name": "ipython",
    "version": 3
   },
   "file_extension": ".py",
   "mimetype": "text/x-python",
   "name": "python",
   "nbconvert_exporter": "python",
   "pygments_lexer": "ipython3",
   "version": "3.10.9"
  }
 },
 "nbformat": 4,
 "nbformat_minor": 5
}
