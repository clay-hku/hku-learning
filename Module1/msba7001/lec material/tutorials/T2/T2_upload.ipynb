{
 "cells": [
  {
   "cell_type": "markdown",
   "id": "7083ca58",
   "metadata": {},
   "source": [
    "# 7001 T2\n"
   ]
  },
  {
   "cell_type": "code",
   "execution_count": 1,
   "id": "465c7cc8",
   "metadata": {},
   "outputs": [],
   "source": [
    "import re\n",
    "import string\n",
    "import random\n",
    "import numpy as np"
   ]
  },
  {
   "cell_type": "markdown",
   "id": "5f70e0f6",
   "metadata": {},
   "source": [
    "#### ***(HARD, Optional)*** Assignment 1 - Q5 Variation : What if each substring can be not continuous?\n",
    "i.e. input ('ABCDE', 3) can have 10 distinct substrings 'ABC', 'ABD', 'ABE', 'ACD', 'ACE', 'ADE', 'BCD', 'BCE', 'BDE', 'CDE', and ('ABCABAB', 6) should have 7 results."
   ]
  },
  {
   "cell_type": "code",
   "execution_count": 5,
   "id": "86755052",
   "metadata": {},
   "outputs": [],
   "source": [
    "# Hint 1: Use recursion\n",
    "# Hint 2: While we traverse the string, at each index, we can either include or not include the character.\n",
    "# Hint 3: Start with an empty string, at each iteration, if we include the character, add it to the current string\n",
    "# Hint 4: If the string has a length of k, add it to the result set\n",
    "# Hint 5: If we reach the end of the input but the current string has a length less than k, return"
   ]
  },
  {
   "cell_type": "markdown",
   "id": "9d11bb05",
   "metadata": {},
   "source": [
    "## Useful Numpy functions"
   ]
  },
  {
   "cell_type": "markdown",
   "id": "f7f7c3fb",
   "metadata": {},
   "source": [
    "### 1. np.dot\n",
    "\n",
    "`np.dot(a, b)` computes the dot product of two arrays"
   ]
  },
  {
   "cell_type": "code",
   "execution_count": 11,
   "id": "49473f37",
   "metadata": {},
   "outputs": [
    {
     "data": {
      "text/plain": [
       "32"
      ]
     },
     "execution_count": 11,
     "metadata": {},
     "output_type": "execute_result"
    }
   ],
   "source": [
    "A = np.array([1,2,3])\n",
    "B = np.array([4,5,6])\n",
    "np.dot(A,B) # 1*4 + 2*5 + 3*6 = 32"
   ]
  },
  {
   "cell_type": "code",
   "execution_count": 14,
   "id": "98b184ae",
   "metadata": {},
   "outputs": [
    {
     "data": {
      "text/plain": [
       "32"
      ]
     },
     "execution_count": 14,
     "metadata": {},
     "output_type": "execute_result"
    }
   ],
   "source": [
    "#Does it work with normal list?\n",
    "np.dot([1,2,3], [4,5,6])"
   ]
  },
  {
   "cell_type": "markdown",
   "id": "386ffc7f",
   "metadata": {},
   "source": [
    "### 2. np.matmul\n",
    "\n",
    "`np.matmul(a, b)` computes the matrix product of two matrices\n"
   ]
  },
  {
   "cell_type": "code",
   "execution_count": 19,
   "id": "3992625b",
   "metadata": {},
   "outputs": [
    {
     "data": {
      "text/plain": [
       "array([[ 8,  8],\n",
       "       [18, 18]])"
      ]
     },
     "execution_count": 19,
     "metadata": {},
     "output_type": "execute_result"
    }
   ],
   "source": [
    "\n",
    "C = [[1, 2], \n",
    "     [3, 4]]\n",
    "D = [[2, 2], \n",
    "     [3, 3]]\n",
    "\n",
    "np.matmul(C, D)\n"
   ]
  },
  {
   "cell_type": "markdown",
   "id": "e0334469",
   "metadata": {},
   "source": [
    "### 3. linalg.solve\n",
    "\n",
    "`np.linalg.solve(a, b)` solves the linear equation $ax=b$, where $a$ is a square coefficient matrix.\n"
   ]
  },
  {
   "cell_type": "markdown",
   "id": "03b94c76",
   "metadata": {},
   "source": [
    "$$\n",
    "\\begin{cases}\n",
    "7x_1+3x_2 = 1\\\\\n",
    "2x_1+x_2=-9\n",
    "\\end{cases}\n",
    "\n",
    "$$"
   ]
  },
  {
   "cell_type": "code",
   "execution_count": 20,
   "id": "5b74ea1b",
   "metadata": {},
   "outputs": [
    {
     "data": {
      "text/plain": [
       "array([ 28., -65.])"
      ]
     },
     "execution_count": 20,
     "metadata": {},
     "output_type": "execute_result"
    }
   ],
   "source": [
    "\n",
    "E = [[7,3], \n",
    "     [2,1]]\n",
    "F= [1, -9]\n",
    "\n",
    "np.linalg.solve(E, F) \n"
   ]
  },
  {
   "cell_type": "markdown",
   "id": "9518d140",
   "metadata": {},
   "source": [
    "### ***Take-home practice***\n",
    "\n",
    "Can you implement matrix multiplication for two 3x3 matrices **NOT** using numpy? i.e. only loops and normal lists\n",
    "\n",
    "If you can, can you implement it for every size of square matrices? i.e. the function should work for 1x1, 2x2, 3x3, ... as long as the input dimensions of A and B are correct.\n"
   ]
  },
  {
   "cell_type": "code",
   "execution_count": 7,
   "id": "3a76ba09",
   "metadata": {},
   "outputs": [],
   "source": [
    "def matmul_3x3(A, B):\n",
    "    # Ensure the matrices are 3x3\n",
    "    if len(A) != 3 or len(A[0]) != 3 or len(B) != 3 or len(B[0]) != 3:\n",
    "        print(\"Both matrices must be 3x3.\")\n",
    "        return \n",
    "\n",
    "    # Initialize the result matrix with zeros\n",
    "    result = [[0 for _ in range(3)] for _ in range(3)]\n",
    "\n",
    "    # Perform matrix multiplication\n",
    "    for i in range(3):\n",
    "        for j in range(3):\n",
    "            for k in range(3):\n",
    "                result[i][j] += A[i][k] * B[k][j]\n",
    "\n",
    "    return result"
   ]
  },
  {
   "cell_type": "code",
   "execution_count": 8,
   "id": "e1c15cd0",
   "metadata": {},
   "outputs": [
    {
     "data": {
      "text/plain": [
       "[[30, 24, 18], [84, 69, 54], [138, 114, 90]]"
      ]
     },
     "execution_count": 8,
     "metadata": {},
     "output_type": "execute_result"
    }
   ],
   "source": [
    "A = [[1, 2, 3],\n",
    "     [4, 5, 6],\n",
    "     [7, 8, 9]]\n",
    "\n",
    "B = [[9, 8, 7],\n",
    "     [6, 5, 4],\n",
    "     [3, 2, 1]]\n",
    "\n",
    "matmul_3x3(A, B)"
   ]
  },
  {
   "cell_type": "markdown",
   "id": "431451e4",
   "metadata": {},
   "source": [
    "## Regex look-ahead and look-behind assertions"
   ]
  },
  {
   "cell_type": "markdown",
   "id": "4c724913",
   "metadata": {},
   "source": [
    "**Look-ahead** `abc(?=de)`: Asserts that what immediately follows `abc` is `de`\n",
    "\n",
    "**Negative Look-ahead** `abc(?!de)`: Asserts that what immediately follows `abc` is NOT `de`\n",
    "\n",
    "**Look-behind** `(?<=abc)de`: Asserts that what immediately before `de` is `abc`\n",
    "\n",
    "**Negative Look-behind** `(?<!abc)de`: Asserts that what immediately before `de` is NOT `abc`"
   ]
  },
  {
   "cell_type": "markdown",
   "id": "9192c90d",
   "metadata": {},
   "source": [
    "Try out the expression in https://regex101.com/"
   ]
  },
  {
   "cell_type": "markdown",
   "id": "b6279115",
   "metadata": {},
   "source": [
    "## (Optional) Simple refresher exercise: https://regexlearn.com/learn/regex101"
   ]
  },
  {
   "cell_type": "markdown",
   "id": "1fc6cd3f",
   "metadata": {},
   "source": [
    "## Extra Practice Q"
   ]
  },
  {
   "cell_type": "markdown",
   "id": "9a26323e",
   "metadata": {},
   "source": [
    "### Q1."
   ]
  },
  {
   "cell_type": "code",
   "execution_count": 120,
   "id": "0d829f9e",
   "metadata": {},
   "outputs": [],
   "source": [
    "#Hint: remember to use '\\(?' and '\\)?' to match the parenthesis"
   ]
  },
  {
   "cell_type": "markdown",
   "id": "5436af24",
   "metadata": {},
   "source": [
    "### Q2."
   ]
  },
  {
   "cell_type": "code",
   "execution_count": 4,
   "id": "2ac198a0",
   "metadata": {},
   "outputs": [],
   "source": [
    "#Hint: Keep generating random passwords until you find one that satisfies all the rules\n",
    "        \n",
    "#Rule 1: at least one vowel\n",
    "\n",
    "#Rule 2: at least one letters in \"X, Y, Z\"\n",
    "\n",
    "#Rule 3: at least 4 numbers between 0 and 9 (both inclusive)\n",
    "\n",
    "#Rule 4: exactly two special characters in \"_$!?\"\n",
    "\n",
    "#Rule 5: every vowel letter in lower case must be followed by an upper case letter\n",
    "\n",
    "#Rule 6: at least one of the numbers must be preceded by a special character\n",
    "\n",
    "#Rule 7: the total of all digits in the password should sum up to a perfect square"
   ]
  },
  {
   "cell_type": "markdown",
   "id": "dfaafc00",
   "metadata": {},
   "source": [
    "### Q3."
   ]
  },
  {
   "cell_type": "code",
   "execution_count": 6,
   "id": "b1f3b825",
   "metadata": {},
   "outputs": [],
   "source": [
    "#Hint: Create a regex that can find all numbers, no matter if they have negative signs/decimal points or not."
   ]
  },
  {
   "cell_type": "markdown",
   "id": "6334a084",
   "metadata": {},
   "source": [
    "## (Optional): Self-learning: Introduction to Git"
   ]
  },
  {
   "cell_type": "markdown",
   "id": "e1762016",
   "metadata": {},
   "source": [
    "What is Git & Version Control: https://git-scm.com/book/zh/v2/%E8%B5%B7%E6%AD%A5-%E5%85%B3%E4%BA%8E%E7%89%88%E6%9C%AC%E6%8E%A7%E5%88%B6"
   ]
  },
  {
   "cell_type": "markdown",
   "id": "b7db956a",
   "metadata": {},
   "source": [
    "Learn branching commands: https://learngitbranching.js.org/?locale=en_US"
   ]
  }
 ],
 "metadata": {
  "kernelspec": {
   "display_name": "Python 3 (ipykernel)",
   "language": "python",
   "name": "python3"
  },
  "language_info": {
   "codemirror_mode": {
    "name": "ipython",
    "version": 3
   },
   "file_extension": ".py",
   "mimetype": "text/x-python",
   "name": "python",
   "nbconvert_exporter": "python",
   "pygments_lexer": "ipython3",
   "version": "3.12.4"
  }
 },
 "nbformat": 4,
 "nbformat_minor": 5
}
