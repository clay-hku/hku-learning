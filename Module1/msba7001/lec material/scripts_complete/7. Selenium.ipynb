{
 "cells": [
  {
   "cell_type": "markdown",
   "metadata": {},
   "source": [
    "# Create a driver"
   ]
  },
  {
   "cell_type": "code",
   "execution_count": 1,
   "metadata": {},
   "outputs": [],
   "source": [
    "from selenium import webdriver\n",
    "from selenium.webdriver.chrome.service import Service"
   ]
  },
  {
   "cell_type": "code",
   "execution_count": 2,
   "metadata": {},
   "outputs": [],
   "source": [
    "service = Service(r'./chromedriver_win.exe') # for windows\n",
    "# service = Service(r'./chromedriver_mac') # for mac\n",
    "driver = webdriver.Chrome(service = service)\n",
    "\n",
    "url = r'https://paulocoliveira.github.io/mypages/jobapplication.html'\n",
    "driver.get(url) # opens a new page"
   ]
  },
  {
   "cell_type": "code",
   "execution_count": 22,
   "metadata": {},
   "outputs": [],
   "source": [
    "# execute a simple javascript code\n",
    "driver.execute_script(\"alert('Hello World!')\") # opens an alert box"
   ]
  },
  {
   "cell_type": "code",
   "execution_count": 23,
   "metadata": {},
   "outputs": [],
   "source": [
    "driver.forward() # goes forward to the next page"
   ]
  },
  {
   "cell_type": "code",
   "execution_count": 24,
   "metadata": {},
   "outputs": [],
   "source": [
    "driver.refresh() # refreshes the page"
   ]
  },
  {
   "cell_type": "code",
   "execution_count": 25,
   "metadata": {},
   "outputs": [],
   "source": [
    "driver.fullscreen_window() # maximizes the window"
   ]
  },
  {
   "cell_type": "code",
   "execution_count": 27,
   "metadata": {},
   "outputs": [],
   "source": [
    "driver.set_window_size(800, 600) # sets the window size"
   ]
  },
  {
   "cell_type": "code",
   "execution_count": 28,
   "metadata": {},
   "outputs": [
    {
     "data": {
      "text/plain": [
       "True"
      ]
     },
     "execution_count": 28,
     "metadata": {},
     "output_type": "execute_result"
    }
   ],
   "source": [
    "driver.get_screenshot_as_file('../data_out/screenshot.png') # takes a screenshot"
   ]
  },
  {
   "cell_type": "code",
   "execution_count": 31,
   "metadata": {},
   "outputs": [
    {
     "data": {
      "text/plain": [
       "'Job Application Form'"
      ]
     },
     "execution_count": 31,
     "metadata": {},
     "output_type": "execute_result"
    }
   ],
   "source": [
    "driver.title # returns the title of the page"
   ]
  },
  {
   "cell_type": "code",
   "execution_count": 14,
   "metadata": {},
   "outputs": [
    {
     "data": {
      "text/plain": [
       "'https://paulocoliveira.github.io/mypages/jobapplication.html'"
      ]
     },
     "execution_count": 14,
     "metadata": {},
     "output_type": "execute_result"
    }
   ],
   "source": [
    "driver.current_url # returns the current url"
   ]
  },
  {
   "cell_type": "code",
   "execution_count": 3,
   "metadata": {
    "collapsed": true,
    "jupyter": {
     "outputs_hidden": true
    }
   },
   "outputs": [
    {
     "data": {
      "text/plain": [
       "'<html><head>\\n    <title>Job Application Form</titl'"
      ]
     },
     "execution_count": 3,
     "metadata": {},
     "output_type": "execute_result"
    }
   ],
   "source": [
    "driver.page_source[:50] # returns a string of the source code of the page\n",
    "# we may further use bs4 or regex to extract data from the source code."
   ]
  },
  {
   "cell_type": "markdown",
   "metadata": {},
   "source": [
    "# The `By` class"
   ]
  },
  {
   "cell_type": "code",
   "execution_count": 7,
   "metadata": {},
   "outputs": [],
   "source": [
    "from selenium.webdriver.common.by import By"
   ]
  },
  {
   "cell_type": "code",
   "execution_count": 81,
   "metadata": {},
   "outputs": [],
   "source": [
    "# copy element from source\n",
    "# <input type=\"text\" id=\"fullName\" name=\"fullName\">\n",
    "fullname = driver.find_element(By.ID, \"fullName\")"
   ]
  },
  {
   "cell_type": "code",
   "execution_count": 36,
   "metadata": {},
   "outputs": [
    {
     "data": {
      "text/plain": [
       "<selenium.webdriver.remote.webelement.WebElement (session=\"729f1cd72ed2d97e56b2573cb88c80bb\", element=\"f.F35563CCC5DEBCEFCE492362AEE0B66C.d.FE8C6A8D0BA61B27583F0BCBECF62537.e.101\")>"
      ]
     },
     "execution_count": 36,
     "metadata": {},
     "output_type": "execute_result"
    }
   ],
   "source": [
    "fullname # it's a Web Element"
   ]
  },
  {
   "cell_type": "code",
   "execution_count": 37,
   "metadata": {},
   "outputs": [],
   "source": [
    "positions = driver.find_element(By.ID, \"desiredPosition\")"
   ]
  },
  {
   "cell_type": "code",
   "execution_count": 38,
   "metadata": {},
   "outputs": [
    {
     "name": "stdout",
     "output_type": "stream",
     "text": [
      "select\n",
      "desiredPosition\n",
      "True\n",
      "False\n",
      "<selenium.webdriver.chrome.webdriver.WebDriver (session=\"729f1cd72ed2d97e56b2573cb88c80bb\")>\n",
      "                Developer\n",
      "                QA\n",
      "                Designer\n",
      "                Manager\n",
      "            \n"
     ]
    }
   ],
   "source": [
    "# inspect properties of a Web Element\n",
    "print(positions.tag_name)\n",
    "print(positions.get_attribute(\"name\"))\n",
    "print(positions.is_displayed())\n",
    "print(positions.is_selected())\n",
    "print(positions.parent)\n",
    "print(positions.text)"
   ]
  },
  {
   "cell_type": "code",
   "execution_count": 39,
   "metadata": {},
   "outputs": [],
   "source": [
    "# to select multiple elements. it's a list of Web Elements\n",
    "input_elements = driver.find_elements(By.TAG_NAME, \"input\")"
   ]
  },
  {
   "cell_type": "code",
   "execution_count": 41,
   "metadata": {},
   "outputs": [
    {
     "data": {
      "text/plain": [
       "<selenium.webdriver.remote.webelement.WebElement (session=\"729f1cd72ed2d97e56b2573cb88c80bb\", element=\"f.F35563CCC5DEBCEFCE492362AEE0B66C.d.FE8C6A8D0BA61B27583F0BCBECF62537.e.126\")>"
      ]
     },
     "execution_count": 41,
     "metadata": {},
     "output_type": "execute_result"
    }
   ],
   "source": [
    "submit = driver.find_element(By.XPATH, \"\"\"//*[@id=\"jobApplicationForm\"]/button\"\"\")\n",
    "submit"
   ]
  },
  {
   "cell_type": "markdown",
   "metadata": {},
   "source": [
    "# Interact with Elements"
   ]
  },
  {
   "cell_type": "code",
   "execution_count": 42,
   "metadata": {},
   "outputs": [],
   "source": [
    "fullname.send_keys(\"Chao Ding\")"
   ]
  },
  {
   "cell_type": "code",
   "execution_count": 43,
   "metadata": {},
   "outputs": [],
   "source": [
    "fullname.clear()"
   ]
  },
  {
   "cell_type": "code",
   "execution_count": 44,
   "metadata": {},
   "outputs": [],
   "source": [
    "input_elements[1].send_keys(\"chao.ding@hku.hk\")"
   ]
  },
  {
   "cell_type": "code",
   "execution_count": 45,
   "metadata": {},
   "outputs": [],
   "source": [
    "driver.find_element(By.ID, \"location2\").click()"
   ]
  },
  {
   "cell_type": "code",
   "execution_count": 46,
   "metadata": {},
   "outputs": [],
   "source": [
    "driver.find_element(By.ID, \"skill1\").click()\n",
    "driver.find_element(By.ID, \"skill2\").click()"
   ]
  },
  {
   "cell_type": "code",
   "execution_count": 47,
   "metadata": {},
   "outputs": [],
   "source": [
    "submit.click()"
   ]
  },
  {
   "cell_type": "markdown",
   "metadata": {},
   "source": [
    "# The `Keys` Class"
   ]
  },
  {
   "cell_type": "code",
   "execution_count": 48,
   "metadata": {},
   "outputs": [],
   "source": [
    "from selenium.webdriver.common.keys import Keys"
   ]
  },
  {
   "cell_type": "code",
   "execution_count": 83,
   "metadata": {},
   "outputs": [],
   "source": [
    "driver.find_element(By.ID, \"email\").clear()"
   ]
  },
  {
   "cell_type": "code",
   "execution_count": 84,
   "metadata": {},
   "outputs": [],
   "source": [
    "driver.find_element(By.ID, \"email\").send_keys(\"chao.ding@hkuhk\")"
   ]
  },
  {
   "cell_type": "code",
   "execution_count": 85,
   "metadata": {},
   "outputs": [],
   "source": [
    "driver.find_element(By.ID, \"email\").send_keys(2 * Keys.ARROW_LEFT)"
   ]
  },
  {
   "cell_type": "code",
   "execution_count": 86,
   "metadata": {},
   "outputs": [],
   "source": [
    "driver.find_element(By.ID, \"email\").send_keys(\".\")"
   ]
  },
  {
   "cell_type": "code",
   "execution_count": 87,
   "metadata": {},
   "outputs": [],
   "source": [
    "driver.find_element(By.ID, \"email\").send_keys(Keys.TAB, '12345678')\n",
    "# press Tab and then input '12345678' in Phone Number"
   ]
  },
  {
   "cell_type": "markdown",
   "metadata": {},
   "source": [
    "# The `Select` Class"
   ]
  },
  {
   "cell_type": "code",
   "execution_count": 9,
   "metadata": {},
   "outputs": [],
   "source": [
    "from selenium.webdriver.support.select import Select"
   ]
  },
  {
   "cell_type": "code",
   "execution_count": 55,
   "metadata": {},
   "outputs": [
    {
     "data": {
      "text/plain": [
       "'                Developer\\n                QA\\n                Designer\\n                Manager\\n            '"
      ]
     },
     "execution_count": 55,
     "metadata": {},
     "output_type": "execute_result"
    }
   ],
   "source": [
    "positions.text"
   ]
  },
  {
   "cell_type": "code",
   "execution_count": 56,
   "metadata": {},
   "outputs": [],
   "source": [
    "options = Select(positions)"
   ]
  },
  {
   "cell_type": "code",
   "execution_count": 57,
   "metadata": {},
   "outputs": [],
   "source": [
    "options.select_by_value(\"developer\")\n",
    "# note that here \"value\" refers to the value attribute of the option tag"
   ]
  },
  {
   "cell_type": "code",
   "execution_count": 58,
   "metadata": {},
   "outputs": [],
   "source": [
    "options.select_by_visible_text(\"QA\")\n",
    "# note that here \"visible text\" refers to the text between the option tags"
   ]
  },
  {
   "cell_type": "code",
   "execution_count": 59,
   "metadata": {},
   "outputs": [],
   "source": [
    "options.select_by_index(0)\n",
    "# note that here \"index\" refers to the index of the option tag in the select tag"
   ]
  },
  {
   "cell_type": "code",
   "execution_count": 62,
   "metadata": {},
   "outputs": [],
   "source": [
    "driver.close()"
   ]
  },
  {
   "cell_type": "markdown",
   "metadata": {},
   "source": [
    "# ActionChains"
   ]
  },
  {
   "cell_type": "code",
   "execution_count": 4,
   "metadata": {},
   "outputs": [],
   "source": [
    "from selenium.webdriver.common.action_chains import ActionChains"
   ]
  },
  {
   "cell_type": "code",
   "execution_count": 5,
   "metadata": {},
   "outputs": [],
   "source": [
    "service = Service(r'./chromedriver_win.exe') # for windows\n",
    "# service = Service(r'./chromedriver_mac') # for mac\n",
    "course_driver = webdriver.Chrome(service = service)\n",
    "\n",
    "course_url = r'https://ug.hkubs.hku.hk/course'\n",
    "course_driver.get(course_url)"
   ]
  },
  {
   "cell_type": "code",
   "execution_count": 65,
   "metadata": {},
   "outputs": [],
   "source": [
    "search = course_driver.find_element(By.ID, \"q\")\n",
    "confirm = course_driver.find_element(By.CLASS_NAME, \"btn.btn--form.btn--submit\")\n",
    "# for space in a class name, use \".\" to replace it\n",
    "\n",
    "ActionChains(course_driver).double_click(search).send_keys_to_element(search, \"IIMT\").click(confirm).perform()"
   ]
  },
  {
   "cell_type": "code",
   "execution_count": 10,
   "metadata": {},
   "outputs": [],
   "source": [
    "# or, queued up one by one\n",
    "actions = ActionChains(course_driver)\n",
    "\n",
    "# ECON courses in 2024-2025 2nd semester\n",
    "search = course_driver.find_element(By.ID, \"q\")\n",
    "confirm = course_driver.find_element(By.CLASS_NAME, \"btn.btn--form.btn--submit\")\n",
    "semester = Select(course_driver.find_element(By.ID, \"semester\"))\n",
    "\n",
    "search.clear()\n",
    "actions.send_keys_to_element(search, \"ECON\")\n",
    "semester.select_by_visible_text(\"2\")\n",
    "actions.move_to_element(confirm)\n",
    "actions.click()\n",
    "actions.perform()"
   ]
  },
  {
   "cell_type": "code",
   "execution_count": 67,
   "metadata": {},
   "outputs": [
    {
     "data": {
      "text/plain": [
       "'https://ug.hkubs.hku.hk/course?q=ECON&academic_year=2024-2025&semester=sem-2'"
      ]
     },
     "execution_count": 67,
     "metadata": {},
     "output_type": "execute_result"
    }
   ],
   "source": [
    "course_driver.current_url # notice the current URL"
   ]
  },
  {
   "cell_type": "code",
   "execution_count": 11,
   "metadata": {
    "collapsed": true,
    "jupyter": {
     "outputs_hidden": true
    }
   },
   "outputs": [
    {
     "data": {
      "text/html": [
       "<div>\n",
       "<style scoped>\n",
       "    .dataframe tbody tr th:only-of-type {\n",
       "        vertical-align: middle;\n",
       "    }\n",
       "\n",
       "    .dataframe tbody tr th {\n",
       "        vertical-align: top;\n",
       "    }\n",
       "\n",
       "    .dataframe thead th {\n",
       "        text-align: right;\n",
       "    }\n",
       "</style>\n",
       "<table border=\"1\" class=\"dataframe\">\n",
       "  <thead>\n",
       "    <tr style=\"text-align: right;\">\n",
       "      <th></th>\n",
       "      <th>Code</th>\n",
       "      <th>Course Name</th>\n",
       "      <th>Lecturer</th>\n",
       "      <th>Semester</th>\n",
       "      <th>Outline</th>\n",
       "    </tr>\n",
       "  </thead>\n",
       "  <tbody>\n",
       "    <tr>\n",
       "      <th>0</th>\n",
       "      <td>ECON1210K</td>\n",
       "      <td>Introductory Microeconomics</td>\n",
       "      <td>Prof. Chen ZHAO</td>\n",
       "      <td>2</td>\n",
       "      <td>Download</td>\n",
       "    </tr>\n",
       "    <tr>\n",
       "      <th>1</th>\n",
       "      <td>ECON1210L</td>\n",
       "      <td>Introductory Microeconomics</td>\n",
       "      <td>Dr. Si CHEN</td>\n",
       "      <td>2</td>\n",
       "      <td>Download</td>\n",
       "    </tr>\n",
       "    <tr>\n",
       "      <th>2</th>\n",
       "      <td>ECON1210M</td>\n",
       "      <td>Introductory Microeconomics</td>\n",
       "      <td>Dr. Chi Pui HO</td>\n",
       "      <td>2</td>\n",
       "      <td>Download</td>\n",
       "    </tr>\n",
       "    <tr>\n",
       "      <th>3</th>\n",
       "      <td>ECON1210NO</td>\n",
       "      <td>Introductory Microeconomics</td>\n",
       "      <td>Dr. Chi Pui HO</td>\n",
       "      <td>2</td>\n",
       "      <td>Download</td>\n",
       "    </tr>\n",
       "    <tr>\n",
       "      <th>4</th>\n",
       "      <td>ECON1220GJK</td>\n",
       "      <td>Introductory Macroeconomics</td>\n",
       "      <td>Dr. Chi Wa YUEN</td>\n",
       "      <td>2</td>\n",
       "      <td>Download</td>\n",
       "    </tr>\n",
       "  </tbody>\n",
       "</table>\n",
       "</div>"
      ],
      "text/plain": [
       "          Code                  Course Name         Lecturer Semester  \\\n",
       "0    ECON1210K  Introductory Microeconomics  Prof. Chen ZHAO        2   \n",
       "1    ECON1210L  Introductory Microeconomics      Dr. Si CHEN        2   \n",
       "2    ECON1210M  Introductory Microeconomics   Dr. Chi Pui HO        2   \n",
       "3   ECON1210NO  Introductory Microeconomics   Dr. Chi Pui HO        2   \n",
       "4  ECON1220GJK  Introductory Macroeconomics  Dr. Chi Wa YUEN        2   \n",
       "\n",
       "    Outline  \n",
       "0  Download  \n",
       "1  Download  \n",
       "2  Download  \n",
       "3  Download  \n",
       "4  Download  "
      ]
     },
     "execution_count": 11,
     "metadata": {},
     "output_type": "execute_result"
    }
   ],
   "source": [
    "import pandas as pd\n",
    "from io import StringIO\n",
    "\n",
    "# obtain the current source code, read the table, and store it in a DataFrame\n",
    "pd.read_html(StringIO(course_driver.page_source))[0].head()"
   ]
  },
  {
   "cell_type": "markdown",
   "metadata": {},
   "source": [
    "# Explicit Waits"
   ]
  },
  {
   "cell_type": "code",
   "execution_count": 2,
   "metadata": {},
   "outputs": [],
   "source": [
    "from selenium.webdriver.support.ui import WebDriverWait\n",
    "from selenium.webdriver.support import expected_conditions as EC"
   ]
  },
  {
   "cell_type": "code",
   "execution_count": 4,
   "metadata": {},
   "outputs": [],
   "source": [
    "service = Service(r'./chromedriver_win.exe') # for windows\n",
    "# service = Service(r'./chromedriver_mac') # for mac\n",
    "\n",
    "google_url = r'https://www.google.com/'\n",
    "google = webdriver.Chrome(service = service)\n",
    "google.get(google_url)"
   ]
  },
  {
   "cell_type": "code",
   "execution_count": 5,
   "metadata": {},
   "outputs": [],
   "source": [
    "search = google.find_element(By.CLASS_NAME, \"gLFyf\") # the search bar in Google"
   ]
  },
  {
   "cell_type": "code",
   "execution_count": 15,
   "metadata": {},
   "outputs": [],
   "source": [
    "search.send_keys(\"Cyberport\", Keys.ENTER) # send keywords to the search bar\n",
    "\n",
    "map_button = WebDriverWait(google, 10).until(\n",
    "                EC.presence_of_element_located((By.XPATH, \n",
    "                                                '//*[@id=\"hdtb-sc\"]/div/div/div[1]/div/div[3]/a')))\n",
    "# find the map button and wait for it to be clickable\n",
    "\n",
    "map_button.click()"
   ]
  },
  {
   "cell_type": "markdown",
   "metadata": {},
   "source": [
    "# Exceptions"
   ]
  },
  {
   "cell_type": "code",
   "execution_count": 12,
   "metadata": {},
   "outputs": [],
   "source": [
    "from selenium.common import exceptions"
   ]
  },
  {
   "cell_type": "code",
   "execution_count": 16,
   "metadata": {
    "collapsed": true,
    "jupyter": {
     "outputs_hidden": true
    }
   },
   "outputs": [
    {
     "data": {
      "text/plain": [
       "['ERROR_URL',\n",
       " 'ElementClickInterceptedException',\n",
       " 'ElementNotInteractableException',\n",
       " 'ElementNotSelectableException',\n",
       " 'ElementNotVisibleException']"
      ]
     },
     "execution_count": 16,
     "metadata": {},
     "output_type": "execute_result"
    }
   ],
   "source": [
    "dir(exceptions)[:5] # there are many exceptions"
   ]
  },
  {
   "cell_type": "markdown",
   "metadata": {},
   "source": [
    "# Use the following template at all times"
   ]
  },
  {
   "cell_type": "code",
   "execution_count": 1,
   "metadata": {},
   "outputs": [],
   "source": [
    "from selenium import webdriver\n",
    "from selenium.webdriver.chrome.service import Service\n",
    "from selenium.webdriver.chrome.options import Options\n",
    "from selenium.webdriver.common.by import By\n",
    "from selenium.webdriver.common.keys import Keys\n",
    "# import other modules as needed: time, re, pandas, etc."
   ]
  },
  {
   "cell_type": "code",
   "execution_count": 77,
   "metadata": {},
   "outputs": [],
   "source": [
    "service = Service(r'./chromedriver_win.exe') # for windows\n",
    "# service = Service(r'./chromedriver_mac') # for mac\n",
    "\n",
    "agent = 'Mozilla/5.0 (Windows NT 10.0; Win64; x64) AppleWebKit/537.36 (KHTML, like Gecko) Chrome/94.0.4606.71 Safari/537.36'\n",
    "options = Options()\n",
    "options.add_argument(f\"user-agent={agent}\")\n",
    "\n",
    "driver = webdriver.Chrome(service=service, options=options)\n",
    "url = r'http://selenium.dev'\n",
    "driver.get(url)"
   ]
  }
 ],
 "metadata": {
  "kernelspec": {
   "display_name": "Python 3 (ipykernel)",
   "language": "python",
   "name": "python3"
  },
  "language_info": {
   "codemirror_mode": {
    "name": "ipython",
    "version": 3
   },
   "file_extension": ".py",
   "mimetype": "text/x-python",
   "name": "python",
   "nbconvert_exporter": "python",
   "pygments_lexer": "ipython3",
   "version": "3.12.4"
  },
  "toc": {
   "base_numbering": 1,
   "nav_menu": {
    "height": "138px",
    "width": "160px"
   },
   "number_sections": true,
   "sideBar": true,
   "skip_h1_title": false,
   "title_cell": "Table of Contents",
   "title_sidebar": "Contents",
   "toc_cell": false,
   "toc_position": {
    "height": "calc(100% - 180px)",
    "left": "10px",
    "top": "150px",
    "width": "274.875px"
   },
   "toc_section_display": true,
   "toc_window_display": true
  }
 },
 "nbformat": 4,
 "nbformat_minor": 4
}
