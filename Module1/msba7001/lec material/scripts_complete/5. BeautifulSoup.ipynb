{
 "cells": [
  {
   "cell_type": "markdown",
   "id": "217663d8",
   "metadata": {},
   "source": [
    "# Making a soup object"
   ]
  },
  {
   "cell_type": "code",
   "execution_count": 1,
   "id": "e72c4a4e",
   "metadata": {},
   "outputs": [],
   "source": [
    "from bs4 import BeautifulSoup"
   ]
  },
  {
   "cell_type": "code",
   "execution_count": 2,
   "id": "02befb71",
   "metadata": {},
   "outputs": [],
   "source": [
    "html = open('../data_in/html.txt', 'r', encoding='utf-8').read()"
   ]
  },
  {
   "cell_type": "code",
   "execution_count": 73,
   "id": "8f05a5ec",
   "metadata": {},
   "outputs": [
    {
     "name": "stdout",
     "output_type": "stream",
     "text": [
      "<html>\n",
      "    <head><title>The King's story</title>\n",
      "    </head>\n",
      "    <body>\n",
      "        <p class=\"title\"><b>\n"
     ]
    }
   ],
   "source": [
    "print(html[:100])"
   ]
  },
  {
   "cell_type": "code",
   "execution_count": 6,
   "id": "e8be7d83",
   "metadata": {},
   "outputs": [],
   "source": [
    "soup = BeautifulSoup(html, 'html.parser')\n",
    "# the first argument is the html content\n",
    "# which can be a string or a file-like object representing markup to be parsed"
   ]
  },
  {
   "cell_type": "code",
   "execution_count": 8,
   "id": "4a0ac020",
   "metadata": {},
   "outputs": [
    {
     "data": {
      "text/plain": [
       "bs4.BeautifulSoup"
      ]
     },
     "execution_count": 8,
     "metadata": {},
     "output_type": "execute_result"
    }
   ],
   "source": [
    "type(soup) # it is beautifulsoup object"
   ]
  },
  {
   "cell_type": "markdown",
   "id": "57119559",
   "metadata": {},
   "source": [
    "# Navigating the tree"
   ]
  },
  {
   "cell_type": "code",
   "execution_count": 74,
   "id": "34622fbc",
   "metadata": {},
   "outputs": [
    {
     "name": "stdout",
     "output_type": "stream",
     "text": [
      "<title>The King's story</title>\n",
      "<a class=\"sister\" href=\"http://example.com/elsie\" id=\"link1\">Elsie</a>\n",
      "<p class=\"title\"><b>The King's story</b></p>\n",
      "<class 'bs4.element.Tag'>\n"
     ]
    }
   ],
   "source": [
    "# using element name to get the first element\n",
    "print(\n",
    "    soup.title,\n",
    "    soup.a,\n",
    "    soup.p,\n",
    "    type(soup.p), # it is tag object\n",
    "    sep = '\\n' \n",
    ") "
   ]
  },
  {
   "cell_type": "code",
   "execution_count": 13,
   "id": "08bd9f50",
   "metadata": {},
   "outputs": [],
   "source": [
    "a_tag = soup.a"
   ]
  },
  {
   "cell_type": "code",
   "execution_count": 35,
   "id": "7a764216",
   "metadata": {},
   "outputs": [
    {
     "data": {
      "text/plain": [
       "<generator object PageElement.next_siblings at 0x000001CAFECCD780>"
      ]
     },
     "execution_count": 35,
     "metadata": {},
     "output_type": "execute_result"
    }
   ],
   "source": [
    "a_tag.next_siblings\n",
    "# it's a generator object. we use it in a loop to see details\n",
    "# or, we can convert it to a list by using list() function\n",
    "# similar methods include previous_siblings, next_sibling, previous_sibling, ..."
   ]
  },
  {
   "cell_type": "code",
   "execution_count": 17,
   "id": "5f7ef7f7",
   "metadata": {},
   "outputs": [
    {
     "data": {
      "text/plain": [
       "[',\\n            ',\n",
       " <span>Meili</span>,\n",
       " ', \\n            ',\n",
       " <span class=\"brother\">Eric</span>,\n",
       " '\\n',\n",
       " <a class=\"sister\" href=\"http://example.com/lacie\" id=\"link2\">Lacie</a>,\n",
       " ',\\n            ',\n",
       " <a class=\"sister\" id=\"link3\">Tillie</a>,\n",
       " ', and\\n            ',\n",
       " <a class=\"brother\" href=\"http://hku.hk/chao\" id=\"link4\">Chao</a>,\n",
       " ',and they lived at the bottom of a\\n            well.']"
      ]
     },
     "execution_count": 17,
     "metadata": {},
     "output_type": "execute_result"
    }
   ],
   "source": [
    "list(a_tag.next_siblings)"
   ]
  },
  {
   "cell_type": "code",
   "execution_count": 18,
   "id": "7e0a91b3",
   "metadata": {},
   "outputs": [
    {
     "data": {
      "text/plain": [
       "<p class=\"story\">Once upon a time there were five siblings; and their names were:\n",
       "            <a class=\"sister\" href=\"http://example.com/elsie\" id=\"link1\">Elsie</a>,\n",
       "            <span>Meili</span>, \n",
       "            <span class=\"brother\">Eric</span>\n",
       "<a class=\"sister\" href=\"http://example.com/lacie\" id=\"link2\">Lacie</a>,\n",
       "            <a class=\"sister\" id=\"link3\">Tillie</a>, and\n",
       "            <a class=\"brother\" href=\"http://hku.hk/chao\" id=\"link4\">Chao</a>,and they lived at the bottom of a\n",
       "            well.</p>"
      ]
     },
     "execution_count": 18,
     "metadata": {},
     "output_type": "execute_result"
    }
   ],
   "source": [
    "a_tag.parent # its parent is the <p> tag"
   ]
  },
  {
   "cell_type": "code",
   "execution_count": 19,
   "id": "ff11578f",
   "metadata": {},
   "outputs": [
    {
     "data": {
      "text/plain": [
       "'p'"
      ]
     },
     "execution_count": 19,
     "metadata": {},
     "output_type": "execute_result"
    }
   ],
   "source": [
    "# find out the name of the parent tag\n",
    "a_tag.parent.name"
   ]
  },
  {
   "cell_type": "markdown",
   "id": "301bb725",
   "metadata": {},
   "source": [
    "# `find` one element"
   ]
  },
  {
   "cell_type": "code",
   "execution_count": 78,
   "id": "e403ca2e",
   "metadata": {},
   "outputs": [
    {
     "name": "stdout",
     "output_type": "stream",
     "text": [
      "<title>The King's story</title>\n",
      "None\n"
     ]
    }
   ],
   "source": [
    "# search by tag name\n",
    "print(\n",
    "    soup.find('title'), # equivalent to soup.title\n",
    "    soup.find(\"MSBA\"), # if the tag is not found, it returns None\n",
    "    sep = '\\n'\n",
    ") "
   ]
  },
  {
   "cell_type": "code",
   "execution_count": 15,
   "id": "6b4f4db6",
   "metadata": {},
   "outputs": [
    {
     "data": {
      "text/plain": [
       "<p class=\"title\"><b>The King's story</b></p>"
      ]
     },
     "execution_count": 15,
     "metadata": {},
     "output_type": "execute_result"
    }
   ],
   "source": [
    "# search by class name. class is a reserved word in Python, hence we use class_\n",
    "soup.find(class_ = 'title')"
   ]
  },
  {
   "cell_type": "code",
   "execution_count": 32,
   "id": "2d31e3b1",
   "metadata": {},
   "outputs": [
    {
     "data": {
      "text/plain": [
       "<p class=\"title\"><b>The King's story</b></p>"
      ]
     },
     "execution_count": 32,
     "metadata": {},
     "output_type": "execute_result"
    }
   ],
   "source": [
    "# or, use attributes. it should be a dictionary\n",
    "soup.find(attrs = {'class':'title'})"
   ]
  },
  {
   "cell_type": "code",
   "execution_count": 26,
   "id": "21a8830f",
   "metadata": {},
   "outputs": [
    {
     "data": {
      "text/plain": [
       "<title>The King's story</title>"
      ]
     },
     "execution_count": 26,
     "metadata": {},
     "output_type": "execute_result"
    }
   ],
   "source": [
    "soup.find(\"head\").find(\"title\") # equivalent to soup.head.title"
   ]
  },
  {
   "cell_type": "code",
   "execution_count": 33,
   "id": "450a3663",
   "metadata": {},
   "outputs": [
    {
     "data": {
      "text/plain": [
       "<head><title>The King's story</title>\n",
       "</head>"
      ]
     },
     "execution_count": 33,
     "metadata": {},
     "output_type": "execute_result"
    }
   ],
   "source": [
    "soup.title.find_parent()\n",
    "# similar methods include:\n",
    "# find_parents, find_next_sibling, find_previous_sibling, find_next_siblings, find_previous_siblings"
   ]
  },
  {
   "cell_type": "markdown",
   "id": "23f3c061",
   "metadata": {},
   "source": [
    "# `find_all` / `findAll` elements, return a list"
   ]
  },
  {
   "cell_type": "code",
   "execution_count": 40,
   "id": "fe04c8f6",
   "metadata": {
    "scrolled": false
   },
   "outputs": [
    {
     "data": {
      "text/plain": [
       "[<a class=\"sister\" href=\"http://example.com/elsie\" id=\"link1\">Elsie</a>,\n",
       " <a class=\"sister\" href=\"http://example.com/lacie\" id=\"link2\">Lacie</a>,\n",
       " <a class=\"sister\" id=\"link3\">Tillie</a>,\n",
       " <a class=\"brother\" href=\"http://hku.hk/chao\" id=\"link4\">Chao</a>]"
      ]
     },
     "execution_count": 40,
     "metadata": {},
     "output_type": "execute_result"
    }
   ],
   "source": [
    "hrefs = soup.find_all('a')\n",
    "hrefs # the result is a list"
   ]
  },
  {
   "cell_type": "code",
   "execution_count": 80,
   "id": "7c57975e",
   "metadata": {
    "scrolled": true
   },
   "outputs": [
    {
     "data": {
      "text/plain": [
       "['a', 'a', 'a', 'a']"
      ]
     },
     "execution_count": 80,
     "metadata": {},
     "output_type": "execute_result"
    }
   ],
   "source": [
    "# get the element names of the links\n",
    "[link.name for link in hrefs]"
   ]
  },
  {
   "cell_type": "code",
   "execution_count": 41,
   "id": "f776a47a",
   "metadata": {
    "scrolled": true
   },
   "outputs": [
    {
     "data": {
      "text/plain": [
       "[<a class=\"sister\" href=\"http://example.com/elsie\" id=\"link1\">Elsie</a>,\n",
       " <a class=\"sister\" href=\"http://example.com/lacie\" id=\"link2\">Lacie</a>,\n",
       " <a class=\"sister\" id=\"link3\">Tillie</a>]"
      ]
     },
     "execution_count": 41,
     "metadata": {},
     "output_type": "execute_result"
    }
   ],
   "source": [
    "# the parameters are the same as find()\n",
    "soup.find_all('a', attrs={'class':'sister'})  "
   ]
  },
  {
   "cell_type": "code",
   "execution_count": 42,
   "id": "494607cf",
   "metadata": {},
   "outputs": [
    {
     "data": {
      "text/plain": [
       "[<a class=\"sister\" href=\"http://example.com/lacie\" id=\"link2\">Lacie</a>]"
      ]
     },
     "execution_count": 42,
     "metadata": {},
     "output_type": "execute_result"
    }
   ],
   "source": [
    "soup.find_all(attrs={'id':'link2'})"
   ]
  },
  {
   "cell_type": "code",
   "execution_count": 43,
   "id": "27529244",
   "metadata": {},
   "outputs": [
    {
     "data": {
      "text/plain": [
       "[<a class=\"sister\" href=\"http://example.com/elsie\" id=\"link1\">Elsie</a>,\n",
       " <a class=\"sister\" href=\"http://example.com/lacie\" id=\"link2\">Lacie</a>,\n",
       " <a class=\"sister\" id=\"link3\">Tillie</a>,\n",
       " <a class=\"brother\" href=\"http://hku.hk/chao\" id=\"link4\">Chao</a>]"
      ]
     },
     "execution_count": 43,
     "metadata": {},
     "output_type": "execute_result"
    }
   ],
   "source": [
    "# find all tags with id attribute\n",
    "soup.find_all(id = True)"
   ]
  },
  {
   "cell_type": "code",
   "execution_count": 44,
   "id": "70bb55d4",
   "metadata": {},
   "outputs": [
    {
     "data": {
      "text/plain": [
       "['Elsie']"
      ]
     },
     "execution_count": 44,
     "metadata": {},
     "output_type": "execute_result"
    }
   ],
   "source": [
    "# find an element with a specific string\n",
    "# it returns a list of strings, not tags\n",
    "soup.find_all(string = 'Elsie')"
   ]
  },
  {
   "cell_type": "code",
   "execution_count": 46,
   "id": "37738300",
   "metadata": {},
   "outputs": [
    {
     "data": {
      "text/plain": [
       "[<a class=\"sister\" href=\"http://example.com/elsie\" id=\"link1\">Elsie</a>]"
      ]
     },
     "execution_count": 46,
     "metadata": {},
     "output_type": "execute_result"
    }
   ],
   "source": [
    "soup.find_all(\"a\", string = 'Elsie') # find all <a> tags with string 'Elsie'"
   ]
  },
  {
   "cell_type": "code",
   "execution_count": 47,
   "id": "035de1f0",
   "metadata": {},
   "outputs": [
    {
     "data": {
      "text/plain": [
       "[<a class=\"sister\" href=\"http://example.com/elsie\" id=\"link1\">Elsie</a>,\n",
       " <a class=\"sister\" href=\"http://example.com/lacie\" id=\"link2\">Lacie</a>]"
      ]
     },
     "execution_count": 47,
     "metadata": {},
     "output_type": "execute_result"
    }
   ],
   "source": [
    "soup.find_all(\"a\", limit = 2)    # limit the number of results"
   ]
  },
  {
   "cell_type": "code",
   "execution_count": 49,
   "id": "6be3975a",
   "metadata": {},
   "outputs": [
    {
     "data": {
      "text/plain": [
       "[<a class=\"brother\" href=\"http://hku.hk/chao\" id=\"link4\">Chao</a>]"
      ]
     },
     "execution_count": 49,
     "metadata": {},
     "output_type": "execute_result"
    }
   ],
   "source": [
    "import re\n",
    "soup.find_all(href = re.compile(r'hku')) # find all tags with href containing 'hku'\n",
    "# equivalent to soup.find_all(attrs = {'href':re.compile(r'hku')}) "
   ]
  },
  {
   "cell_type": "code",
   "execution_count": 81,
   "id": "9c0d9fdd",
   "metadata": {
    "collapsed": true
   },
   "outputs": [
    {
     "data": {
      "text/plain": [
       "['a', 'a', 'a']"
      ]
     },
     "execution_count": 81,
     "metadata": {},
     "output_type": "execute_result"
    }
   ],
   "source": [
    "# find all tags with href attribute\n",
    "[tag.name for tag in soup.find_all(href = True)]"
   ]
  },
  {
   "cell_type": "code",
   "execution_count": 53,
   "id": "51bbcf8e",
   "metadata": {
    "scrolled": true
   },
   "outputs": [
    {
     "data": {
      "text/plain": [
       "[<b>The King's story</b>,\n",
       " <span>Meili</span>,\n",
       " <span class=\"brother\">Eric</span>]"
      ]
     },
     "execution_count": 53,
     "metadata": {},
     "output_type": "execute_result"
    }
   ],
   "source": [
    "# to find all tags with either 'span' or 'b'\n",
    "soup.find_all(['span', 'b'])"
   ]
  },
  {
   "cell_type": "markdown",
   "id": "795055c2",
   "metadata": {},
   "source": [
    "# Extracting attribute values"
   ]
  },
  {
   "cell_type": "code",
   "execution_count": 54,
   "id": "e3649fe2",
   "metadata": {},
   "outputs": [
    {
     "data": {
      "text/plain": [
       "{'href': 'http://example.com/elsie', 'class': ['sister'], 'id': 'link1'}"
      ]
     },
     "execution_count": 54,
     "metadata": {},
     "output_type": "execute_result"
    }
   ],
   "source": [
    "soup.a.attrs"
   ]
  },
  {
   "cell_type": "code",
   "execution_count": 66,
   "id": "1e3b7b09",
   "metadata": {},
   "outputs": [
    {
     "data": {
      "text/plain": [
       "('http://example.com/elsie', ['sister'], 'link1', None)"
      ]
     },
     "execution_count": 66,
     "metadata": {},
     "output_type": "execute_result"
    }
   ],
   "source": [
    "(\n",
    "soup.a['href'],\n",
    "soup.a['class'],\n",
    "soup.a['id'],\n",
    "soup.a.get('msba', None), # the get method is safe as it allows a default value\n",
    ")"
   ]
  },
  {
   "cell_type": "markdown",
   "id": "9cda9583",
   "metadata": {},
   "source": [
    "# Extracting text by `text`, `get_text()`, `string`"
   ]
  },
  {
   "cell_type": "code",
   "execution_count": 67,
   "id": "1bd7e12e",
   "metadata": {},
   "outputs": [
    {
     "data": {
      "text/plain": [
       "('Elsie', \"The King's story\", 'Meili')"
      ]
     },
     "execution_count": 67,
     "metadata": {},
     "output_type": "execute_result"
    }
   ],
   "source": [
    "(\n",
    "soup.a.text,\n",
    "soup.p.string,\n",
    "soup.span.get_text(strip = True), # strip removes leading and trailing whitespaces\n",
    ")\n"
   ]
  },
  {
   "cell_type": "code",
   "execution_count": 68,
   "id": "1a9d2f70",
   "metadata": {},
   "outputs": [
    {
     "data": {
      "text/plain": [
       "bs4.element.NavigableString"
      ]
     },
     "execution_count": 68,
     "metadata": {},
     "output_type": "execute_result"
    }
   ],
   "source": [
    "type(soup.p.string) # it is a navigablestring object"
   ]
  },
  {
   "cell_type": "code",
   "execution_count": 72,
   "id": "7268815f",
   "metadata": {},
   "outputs": [
    {
     "data": {
      "text/plain": [
       "<b>The King's story</b>"
      ]
     },
     "execution_count": 72,
     "metadata": {},
     "output_type": "execute_result"
    }
   ],
   "source": [
    "# you may use it to find other tags, hence, navigable\n",
    "soup.p.string.find_parent()\n",
    "# similar methods include:\n",
    "# find_parents, find_next_sibling, find_previous_sibling, find_next_siblings, find_previous_siblings"
   ]
  }
 ],
 "metadata": {
  "kernelspec": {
   "display_name": "Python 3 (ipykernel)",
   "language": "python",
   "name": "python3"
  },
  "language_info": {
   "codemirror_mode": {
    "name": "ipython",
    "version": 3
   },
   "file_extension": ".py",
   "mimetype": "text/x-python",
   "name": "python",
   "nbconvert_exporter": "python",
   "pygments_lexer": "ipython3",
   "version": "3.12.4"
  }
 },
 "nbformat": 4,
 "nbformat_minor": 5
}
