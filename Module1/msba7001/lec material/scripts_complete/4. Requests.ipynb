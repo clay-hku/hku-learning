{
 "cells": [
  {
   "cell_type": "code",
   "execution_count": 1,
   "id": "fc5c088a",
   "metadata": {},
   "outputs": [],
   "source": [
    "import requests, re"
   ]
  },
  {
   "cell_type": "code",
   "execution_count": 2,
   "id": "84b4ab29",
   "metadata": {},
   "outputs": [],
   "source": [
    "url = r'http://www.example.com' \n",
    "resp = requests.get(url) # it's a response object"
   ]
  },
  {
   "cell_type": "code",
   "execution_count": 3,
   "id": "2a153797",
   "metadata": {},
   "outputs": [
    {
     "name": "stdout",
     "output_type": "stream",
     "text": [
      "{'Content-Encoding': 'gzip', 'Age': '383409', 'Cache-Control': 'max-age=604800', 'Content-Type': 'text/html; charset=UTF-8', 'Date': 'Tue, 10 Sep 2024 05:12:38 GMT', 'Etag': '\"3147526947+gzip\"', 'Expires': 'Tue, 17 Sep 2024 05:12:38 GMT', 'Last-Modified': 'Thu, 17 Oct 2019 07:18:26 GMT', 'Server': 'ECAcc (sed/58A5)', 'Vary': 'Accept-Encoding', 'X-Cache': 'HIT', 'Content-Length': '648'}\n",
      "http://www.example.com/\n"
     ]
    }
   ],
   "source": [
    "print(resp.headers)\n",
    "print(resp.url)"
   ]
  },
  {
   "cell_type": "code",
   "execution_count": 15,
   "id": "78301b1f",
   "metadata": {},
   "outputs": [
    {
     "name": "stdout",
     "output_type": "stream",
     "text": [
      "200 True\n"
     ]
    }
   ],
   "source": [
    "print(resp.status_code, resp.ok)\n",
    "# 200: Success\n",
    "# 401: Unauthorized Error\n",
    "# 403: Forbidden\n",
    "# 404: Not Found"
   ]
  },
  {
   "cell_type": "code",
   "execution_count": 20,
   "id": "2e1f2802",
   "metadata": {
    "collapsed": true
   },
   "outputs": [
    {
     "name": "stdout",
     "output_type": "stream",
     "text": [
      "<class 'bytes'>\n",
      "\n",
      "b'<!doctype html>\\n<html>\\n<head>\\n    <title>Example D'\n"
     ]
    }
   ],
   "source": [
    "# .content method returns a bytes object, works great when getting images and pdfs\n",
    "# which are considered as bytes.\n",
    "print(type(resp.content))\n",
    "print()\n",
    "print(resp.content[:50])"
   ]
  },
  {
   "cell_type": "code",
   "execution_count": 22,
   "id": "9f5f526e",
   "metadata": {
    "collapsed": true
   },
   "outputs": [
    {
     "data": {
      "text/plain": [
       "'<!doctype html>\\n<html>\\n<head>\\n    <title>Example D'"
      ]
     },
     "execution_count": 22,
     "metadata": {},
     "output_type": "execute_result"
    }
   ],
   "source": [
    "# use .decode to convert bytes to string\n",
    "resp.content.decode()[:50]"
   ]
  },
  {
   "cell_type": "code",
   "execution_count": 21,
   "id": "0349b973",
   "metadata": {
    "collapsed": true
   },
   "outputs": [
    {
     "data": {
      "text/plain": [
       "'<!doctype html>\\n<html>\\n<head>\\n    <title>Example D'"
      ]
     },
     "execution_count": 21,
     "metadata": {},
     "output_type": "execute_result"
    }
   ],
   "source": [
    "# .text method returns a string object, which is the content of the response\n",
    "resp.text[:50]"
   ]
  },
  {
   "cell_type": "code",
   "execution_count": 9,
   "id": "b85d2fca",
   "metadata": {
    "collapsed": true
   },
   "outputs": [
    {
     "data": {
      "text/plain": [
       "['doctype', 'html', 'html', 'head', 'title']"
      ]
     },
     "execution_count": 9,
     "metadata": {},
     "output_type": "execute_result"
    }
   ],
   "source": [
    "# since it is a string, we can search by using regex\n",
    "re.findall(r'\\b\\w+\\b', resp.text)[:5]"
   ]
  },
  {
   "cell_type": "code",
   "execution_count": 18,
   "id": "18568034",
   "metadata": {
    "scrolled": true
   },
   "outputs": [
    {
     "name": "stdout",
     "output_type": "stream",
     "text": [
      "http://www.example.com/?page=2&language=en\n"
     ]
    }
   ],
   "source": [
    "# add a user agent header and parameter values in our request\n",
    "# both need to be a dictionary\n",
    "agent = {\n",
    "    'User-Agent' : 'Mozilla/5.0 (Windows NT 10.0; Win64; x64) AppleWebKit/537.36 (KHTML, like Gecko) Chrome/94.0.4606.71 Safari/537.36'\n",
    "}\n",
    "\n",
    "info = {\n",
    "    'page' : '2',\n",
    "    'language' : 'en'\n",
    "}\n",
    "\n",
    "resp2 = requests.get(url, headers = agent, params = info)\n",
    "print(resp2.url)"
   ]
  },
  {
   "cell_type": "code",
   "execution_count": 11,
   "id": "6b367c19",
   "metadata": {},
   "outputs": [
    {
     "data": {
      "text/plain": [
       "<Response [503]>"
      ]
     },
     "execution_count": 11,
     "metadata": {},
     "output_type": "execute_result"
    }
   ],
   "source": [
    "# to verify certificate\n",
    "requests.get(r'https://www.amazon.com', verify=True)\n",
    "# code 503, the request is not successfull"
   ]
  },
  {
   "cell_type": "code",
   "execution_count": 12,
   "id": "76a40eff",
   "metadata": {},
   "outputs": [
    {
     "name": "stderr",
     "output_type": "stream",
     "text": [
      "c:\\Users\\FBE_user\\anaconda3\\Lib\\site-packages\\urllib3\\connectionpool.py:1099: InsecureRequestWarning: Unverified HTTPS request is being made to host 'www.amazon.com'. Adding certificate verification is strongly advised. See: https://urllib3.readthedocs.io/en/latest/advanced-usage.html#tls-warnings\n",
      "  warnings.warn(\n"
     ]
    },
    {
     "data": {
      "text/plain": [
       "<Response [200]>"
      ]
     },
     "execution_count": 12,
     "metadata": {},
     "output_type": "execute_result"
    }
   ],
   "source": [
    "# to ignore certificate and add a user agent\n",
    "agent = {\n",
    "    'User-Agent' : 'Mozilla/5.0 (Windows NT 10.0; Win64; x64) AppleWebKit/537.36 (KHTML, like Gecko) Chrome/94.0.4606.71 Safari/537.36'\n",
    "}\n",
    "requests.get(r'https://www.amazon.com', headers = agent, verify=False)"
   ]
  },
  {
   "cell_type": "code",
   "execution_count": 13,
   "id": "6e362521",
   "metadata": {},
   "outputs": [
    {
     "data": {
      "text/plain": [
       "<Response [200]>"
      ]
     },
     "execution_count": 13,
     "metadata": {},
     "output_type": "execute_result"
    }
   ],
   "source": [
    "requests.packages.urllib3.disable_warnings() # to turn off the warning message\n",
    "\n",
    "agent = {\n",
    "    'User-Agent' : 'Mozilla/5.0 (Windows NT 10.0; Win64; x64) AppleWebKit/537.36 (KHTML, like Gecko) Chrome/94.0.4606.71 Safari/537.36'\n",
    "}\n",
    "requests.get(r'https://www.amazon.com', headers = agent, verify=False)\n",
    "# always use this structure from now on."
   ]
  }
 ],
 "metadata": {
  "kernelspec": {
   "display_name": "Python 3 (ipykernel)",
   "language": "python",
   "name": "python3"
  },
  "language_info": {
   "codemirror_mode": {
    "name": "ipython",
    "version": 3
   },
   "file_extension": ".py",
   "mimetype": "text/x-python",
   "name": "python",
   "nbconvert_exporter": "python",
   "pygments_lexer": "ipython3",
   "version": "3.12.4"
  }
 },
 "nbformat": 4,
 "nbformat_minor": 5
}
