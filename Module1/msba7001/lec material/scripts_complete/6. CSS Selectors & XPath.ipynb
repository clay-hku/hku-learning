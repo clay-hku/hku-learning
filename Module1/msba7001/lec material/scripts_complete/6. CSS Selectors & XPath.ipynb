{
 "cells": [
  {
   "cell_type": "markdown",
   "id": "7a5965cb",
   "metadata": {},
   "source": [
    "# CSS Selectors"
   ]
  },
  {
   "cell_type": "code",
   "execution_count": 1,
   "id": "e191eb6f",
   "metadata": {},
   "outputs": [],
   "source": [
    "from bs4 import BeautifulSoup"
   ]
  },
  {
   "cell_type": "code",
   "execution_count": 2,
   "id": "02befb71",
   "metadata": {},
   "outputs": [],
   "source": [
    "html = open('../data_in/html.txt', 'r', encoding='utf-8').read()\n",
    "soup = BeautifulSoup(html, 'html.parser')\n",
    "# make a soup object from the html"
   ]
  },
  {
   "cell_type": "code",
   "execution_count": 3,
   "id": "1256d77e",
   "metadata": {},
   "outputs": [
    {
     "data": {
      "text/plain": [
       "[<title>The King's story</title>]"
      ]
     },
     "execution_count": 3,
     "metadata": {},
     "output_type": "execute_result"
    }
   ],
   "source": [
    "# use select to find all the elements with the tag 'title'\n",
    "# it returns a list of elements\n",
    "soup.select(\"title\")"
   ]
  },
  {
   "cell_type": "code",
   "execution_count": 9,
   "id": "a5701ca9",
   "metadata": {},
   "outputs": [
    {
     "data": {
      "text/plain": [
       "[<a class=\"sister\" href=\"http://example.com/elsie\" id=\"link1\">Elsie</a>,\n",
       " <a class=\"sister\" href=\"http://example.com/lacie\" id=\"link2\">Lacie</a>]"
      ]
     },
     "execution_count": 9,
     "metadata": {},
     "output_type": "execute_result"
    }
   ],
   "source": [
    "# find all the elements with the class 'sister' and the id 'link2'\n",
    "# limit the number of results to 2\n",
    "soup.select('.sister, #link2', limit=2)"
   ]
  },
  {
   "cell_type": "code",
   "execution_count": 10,
   "id": "e052e501",
   "metadata": {},
   "outputs": [
    {
     "data": {
      "text/plain": [
       "<a class=\"sister\" href=\"http://example.com/elsie\" id=\"link1\">Elsie</a>"
      ]
     },
     "execution_count": 10,
     "metadata": {},
     "output_type": "execute_result"
    }
   ],
   "source": [
    "soup.select_one('.sister, #link2')\n",
    "# select the first element that matches the selector"
   ]
  },
  {
   "cell_type": "code",
   "execution_count": 11,
   "id": "d23ac484",
   "metadata": {
    "scrolled": true
   },
   "outputs": [
    {
     "data": {
      "text/plain": [
       "[<a class=\"sister\" id=\"link3\">Tillie</a>]"
      ]
     },
     "execution_count": 11,
     "metadata": {},
     "output_type": "execute_result"
    }
   ],
   "source": [
    "# find all the elements with the id 'link3'\n",
    "soup.select('#link3')"
   ]
  },
  {
   "cell_type": "code",
   "execution_count": 12,
   "id": "9cbcba41",
   "metadata": {},
   "outputs": [
    {
     "data": {
      "text/plain": [
       "[<b>The King's story</b>]"
      ]
     },
     "execution_count": 12,
     "metadata": {},
     "output_type": "execute_result"
    }
   ],
   "source": [
    "# find all the elements with the tag 'b' which are inside the body\n",
    "soup.select(\"body b\") # children, grandchildren, etc."
   ]
  },
  {
   "cell_type": "code",
   "execution_count": 13,
   "id": "e50c38ab",
   "metadata": {},
   "outputs": [
    {
     "data": {
      "text/plain": [
       "[<span>Meili</span>, <span class=\"brother\">Eric</span>]"
      ]
     },
     "execution_count": 13,
     "metadata": {},
     "output_type": "execute_result"
    }
   ],
   "source": [
    "# find all the elements with the tag 'span' which are directly inside the body\n",
    "soup.select(\"p > span\") # children only"
   ]
  },
  {
   "cell_type": "code",
   "execution_count": 14,
   "id": "f4200e20",
   "metadata": {},
   "outputs": [
    {
     "data": {
      "text/plain": [
       "[]"
      ]
     },
     "execution_count": 14,
     "metadata": {},
     "output_type": "execute_result"
    }
   ],
   "source": [
    "soup.select(\"body > b\") # no elements"
   ]
  },
  {
   "cell_type": "code",
   "execution_count": 15,
   "id": "b7e9035f",
   "metadata": {},
   "outputs": [
    {
     "data": {
      "text/plain": [
       "[<p class=\"story\">...</p>]"
      ]
     },
     "execution_count": 15,
     "metadata": {},
     "output_type": "execute_result"
    }
   ],
   "source": [
    "soup.select(\"p:nth-of-type(3)\") # the third type of p element\n",
    "# there must be no space in such selectors"
   ]
  },
  {
   "cell_type": "code",
   "execution_count": 16,
   "id": "76bfa62c",
   "metadata": {},
   "outputs": [
    {
     "data": {
      "text/plain": [
       "[<a class=\"sister\" href=\"http://example.com/lacie\" id=\"link2\">Lacie</a>]"
      ]
     },
     "execution_count": 16,
     "metadata": {},
     "output_type": "execute_result"
    }
   ],
   "source": [
    "soup.select(\"a:nth-of-type(2)\") # the second type of a element"
   ]
  },
  {
   "cell_type": "code",
   "execution_count": 17,
   "id": "c4e2e838",
   "metadata": {},
   "outputs": [
    {
     "data": {
      "text/plain": [
       "[<a class=\"sister\" href=\"http://example.com/lacie\" id=\"link2\">Lacie</a>]"
      ]
     },
     "execution_count": 17,
     "metadata": {},
     "output_type": "execute_result"
    }
   ],
   "source": [
    "soup.select(\"a:nth-child(4)\") # the fourth child of a parent element"
   ]
  },
  {
   "cell_type": "code",
   "execution_count": 18,
   "id": "0967efe2",
   "metadata": {},
   "outputs": [
    {
     "data": {
      "text/plain": [
       "[<b>The King's story</b>,\n",
       " <a class=\"sister\" href=\"http://example.com/elsie\" id=\"link1\">Elsie</a>]"
      ]
     },
     "execution_count": 18,
     "metadata": {},
     "output_type": "execute_result"
    }
   ],
   "source": [
    "soup.select(\"p > *:nth-child(1)\") # the first child of a p element"
   ]
  },
  {
   "cell_type": "code",
   "execution_count": 19,
   "id": "e6976aba",
   "metadata": {},
   "outputs": [
    {
     "data": {
      "text/plain": [
       "[<b>The King's story</b>,\n",
       " <a class=\"sister\" href=\"http://example.com/elsie\" id=\"link1\">Elsie</a>,\n",
       " <span>Meili</span>]"
      ]
     },
     "execution_count": 19,
     "metadata": {},
     "output_type": "execute_result"
    }
   ],
   "source": [
    "soup.select(\"p > *:nth-of-type(1)\") \n",
    "# the first type of element who is a child of a p element"
   ]
  },
  {
   "cell_type": "code",
   "execution_count": 20,
   "id": "49fe285e",
   "metadata": {},
   "outputs": [
    {
     "data": {
      "text/plain": [
       "[<span class=\"brother\">Eric</span>]"
      ]
     },
     "execution_count": 20,
     "metadata": {},
     "output_type": "execute_result"
    }
   ],
   "source": [
    "soup.select('span:nth-of-type(2)') # the second type of span element"
   ]
  },
  {
   "cell_type": "code",
   "execution_count": 21,
   "id": "7e000b36",
   "metadata": {},
   "outputs": [
    {
     "data": {
      "text/plain": [
       "[<span class=\"brother\">Eric</span>]"
      ]
     },
     "execution_count": 21,
     "metadata": {},
     "output_type": "execute_result"
    }
   ],
   "source": [
    "soup.select('span.brother') # the span element with the class 'brother'"
   ]
  },
  {
   "cell_type": "code",
   "execution_count": 22,
   "id": "f1b9008d",
   "metadata": {},
   "outputs": [
    {
     "data": {
      "text/plain": [
       "[<span>Meili</span>]"
      ]
     },
     "execution_count": 22,
     "metadata": {},
     "output_type": "execute_result"
    }
   ],
   "source": [
    "soup.select('a + span') # the span element that is immediately preceded by an a element"
   ]
  },
  {
   "cell_type": "code",
   "execution_count": 23,
   "id": "0d0ab55d",
   "metadata": {},
   "outputs": [
    {
     "data": {
      "text/plain": [
       "[<span>Meili</span>, <span class=\"brother\">Eric</span>]"
      ]
     },
     "execution_count": 23,
     "metadata": {},
     "output_type": "execute_result"
    }
   ],
   "source": [
    "soup.select('a ~ span') # the span element that is preceded by an a element"
   ]
  },
  {
   "cell_type": "code",
   "execution_count": 24,
   "id": "4839ada4",
   "metadata": {},
   "outputs": [
    {
     "data": {
      "text/plain": [
       "[<a class=\"sister\" href=\"http://example.com/lacie\" id=\"link2\">Lacie</a>]"
      ]
     },
     "execution_count": 24,
     "metadata": {},
     "output_type": "execute_result"
    }
   ],
   "source": [
    "soup.select('body > p > span + a') \n",
    "# the a element that is immediately preceded by a span element"
   ]
  },
  {
   "cell_type": "markdown",
   "id": "d80efa10",
   "metadata": {},
   "source": [
    "# XML"
   ]
  },
  {
   "cell_type": "code",
   "execution_count": 25,
   "id": "0b34a81e",
   "metadata": {},
   "outputs": [],
   "source": [
    "import pandas as pd\n",
    "from bs4 import BeautifulSoup"
   ]
  },
  {
   "cell_type": "code",
   "execution_count": 26,
   "id": "6211cc19",
   "metadata": {},
   "outputs": [
    {
     "data": {
      "text/html": [
       "<div>\n",
       "<style scoped>\n",
       "    .dataframe tbody tr th:only-of-type {\n",
       "        vertical-align: middle;\n",
       "    }\n",
       "\n",
       "    .dataframe tbody tr th {\n",
       "        vertical-align: top;\n",
       "    }\n",
       "\n",
       "    .dataframe thead th {\n",
       "        text-align: right;\n",
       "    }\n",
       "</style>\n",
       "<table border=\"1\" class=\"dataframe\">\n",
       "  <thead>\n",
       "    <tr style=\"text-align: right;\">\n",
       "      <th></th>\n",
       "      <th>name</th>\n",
       "      <th>age</th>\n",
       "      <th>subject</th>\n",
       "    </tr>\n",
       "  </thead>\n",
       "  <tbody>\n",
       "    <tr>\n",
       "      <th>0</th>\n",
       "      <td>Alex Wong</td>\n",
       "      <td>35</td>\n",
       "      <td>Maths</td>\n",
       "    </tr>\n",
       "    <tr>\n",
       "      <th>1</th>\n",
       "      <td>Justin Li</td>\n",
       "      <td>29</td>\n",
       "      <td>Science</td>\n",
       "    </tr>\n",
       "    <tr>\n",
       "      <th>2</th>\n",
       "      <td>Kang Chen</td>\n",
       "      <td>32</td>\n",
       "      <td>History</td>\n",
       "    </tr>\n",
       "  </tbody>\n",
       "</table>\n",
       "</div>"
      ],
      "text/plain": [
       "        name  age  subject\n",
       "0  Alex Wong   35    Maths\n",
       "1  Justin Li   29  Science\n",
       "2  Kang Chen   32  History"
      ]
     },
     "execution_count": 26,
     "metadata": {},
     "output_type": "execute_result"
    }
   ],
   "source": [
    "# read the xml file, create a dataframe\n",
    "pd.read_xml('../data_in/teachers.xml')"
   ]
  },
  {
   "cell_type": "code",
   "execution_count": 27,
   "id": "191436e9",
   "metadata": {},
   "outputs": [],
   "source": [
    "# open the xml file, create a soup object\n",
    "raw = open('../data_in/teachers.xml', 'r').read()\n",
    "xmlsoup = BeautifulSoup(raw, 'xml')"
   ]
  },
  {
   "cell_type": "code",
   "execution_count": 28,
   "id": "4500ec9c",
   "metadata": {},
   "outputs": [
    {
     "data": {
      "text/plain": [
       "<?xml version=\"1.0\" encoding=\"utf-8\"?>\n",
       "<teachers>\n",
       "<teacher>\n",
       "<name>Alex Wong</name>\n",
       "<age>35</age>\n",
       "<subject>Maths</subject>\n",
       "</teacher>\n",
       "<teacher>\n",
       "<name>Justin Li</name>\n",
       "<age>29</age>\n",
       "<subject>Science</subject>\n",
       "</teacher>\n",
       "<teacher>\n",
       "<name>Kang Chen</name>\n",
       "<age>32</age>\n",
       "<subject>History</subject>\n",
       "</teacher>\n",
       "</teachers>"
      ]
     },
     "execution_count": 28,
     "metadata": {},
     "output_type": "execute_result"
    }
   ],
   "source": [
    "xmlsoup"
   ]
  },
  {
   "cell_type": "code",
   "execution_count": 29,
   "id": "19e91ad4",
   "metadata": {},
   "outputs": [
    {
     "data": {
      "text/plain": [
       "['Alex Wong', 'Justin Li', 'Kang Chen']"
      ]
     },
     "execution_count": 29,
     "metadata": {},
     "output_type": "execute_result"
    }
   ],
   "source": [
    "[teacher.text for teacher in xmlsoup.find_all('name')]"
   ]
  },
  {
   "cell_type": "markdown",
   "id": "ed9cf3c8",
   "metadata": {},
   "source": [
    "# XPath"
   ]
  },
  {
   "cell_type": "code",
   "execution_count": 30,
   "id": "3bf1817b",
   "metadata": {},
   "outputs": [],
   "source": [
    "from bs4 import BeautifulSoup\n",
    "import lxml\n",
    "# BeautifulSoup by default doesn't support working with XPath.\n",
    "# lxml supports XPath 1.0. It has a BeautifulSoup compatible mode,\n",
    "# where it'll try and parse broken HTML the way Soup does."
   ]
  },
  {
   "cell_type": "code",
   "execution_count": 32,
   "id": "37bb1317",
   "metadata": {},
   "outputs": [],
   "source": [
    "raw = open('../data_in/html.txt', 'r', encoding='utf-8').read()\n",
    "xmlsoup = BeautifulSoup(raw)\n",
    "dom = lxml.etree.HTML(str(xmlsoup))"
   ]
  },
  {
   "cell_type": "code",
   "execution_count": 3,
   "id": "4a567e24",
   "metadata": {},
   "outputs": [
    {
     "data": {
      "text/plain": [
       "\"The King's story\""
      ]
     },
     "execution_count": 3,
     "metadata": {},
     "output_type": "execute_result"
    }
   ],
   "source": [
    "dom.xpath('//title')[0].text"
   ]
  },
  {
   "cell_type": "code",
   "execution_count": 4,
   "id": "8159e2a8",
   "metadata": {},
   "outputs": [
    {
     "data": {
      "text/plain": [
       "'Tillie'"
      ]
     },
     "execution_count": 4,
     "metadata": {},
     "output_type": "execute_result"
    }
   ],
   "source": [
    "# select the 3rd a element of the 2nd p element under the body element\n",
    "dom.xpath('//body/p[2]/a[3]')[0].text"
   ]
  },
  {
   "cell_type": "code",
   "execution_count": 5,
   "id": "d26433e1",
   "metadata": {},
   "outputs": [
    {
     "data": {
      "text/plain": [
       "[<Element a at 0x103bca8c0>,\n",
       " <Element a at 0x103bcb300>,\n",
       " <Element a at 0x103bcb4c0>]"
      ]
     },
     "execution_count": 5,
     "metadata": {},
     "output_type": "execute_result"
    }
   ],
   "source": [
    "# select all a elements with href attribute\n",
    "dom.xpath('//a[@href]')"
   ]
  },
  {
   "cell_type": "code",
   "execution_count": 6,
   "id": "6dcc895e",
   "metadata": {},
   "outputs": [
    {
     "data": {
      "text/plain": [
       "['http://example.com/elsie', 'http://example.com/lacie', 'http://hku.hk/chao']"
      ]
     },
     "execution_count": 6,
     "metadata": {},
     "output_type": "execute_result"
    }
   ],
   "source": [
    "[a.get('href') for a in dom.xpath('//a[@href]')]"
   ]
  }
 ],
 "metadata": {
  "kernelspec": {
   "display_name": "Python 3 (ipykernel)",
   "language": "python",
   "name": "python3"
  },
  "language_info": {
   "codemirror_mode": {
    "name": "ipython",
    "version": 3
   },
   "file_extension": ".py",
   "mimetype": "text/x-python",
   "name": "python",
   "nbconvert_exporter": "python",
   "pygments_lexer": "ipython3",
   "version": "3.12.4"
  }
 },
 "nbformat": 4,
 "nbformat_minor": 5
}
