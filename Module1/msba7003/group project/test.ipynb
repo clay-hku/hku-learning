{
 "cells": [
  {
   "cell_type": "code",
   "id": "initial_id",
   "metadata": {
    "collapsed": true,
    "ExecuteTime": {
     "end_time": "2024-09-24T13:28:34.861540Z",
     "start_time": "2024-09-24T13:28:34.272694Z"
    }
   },
   "source": [
    "import numpy as np\n",
    "from scipy.stats import multinomial\n",
    "from itertools import product"
   ],
   "outputs": [],
   "execution_count": 1
  },
  {
   "metadata": {
    "ExecuteTime": {
     "end_time": "2024-09-24T13:28:51.537038Z",
     "start_time": "2024-09-24T13:28:39.286113Z"
    }
   },
   "cell_type": "code",
   "source": [
    "# Given data\n",
    "sku_costs = np.array([5, 6, 7, 8, 6, 2, 8, 5, 15, 7])\n",
    "wtp_means = np.array([6, 7.2, 8.4, 9.6, 7.2, 2.4, 9.6, 6, 18, 8.4])\n",
    "initial_price = np.array([6, 7.2, 8.4, 9.6, 7.2, 2.4, 9.6, 6, 18, 8.4])\n",
    "purchases = np.array([2, 16, 7, 3, 10, 4, 6, 19, 11, 12])\n",
    "possible_std_devs = np.array([0.2, 0.5, 0.8, 1, 1.5])\n",
    "prior_prob = 1 / len(possible_std_devs)  # Each standard deviation is equally likely\n",
    "\n",
    "# Number of customers\n",
    "n_customers = 100\n",
    "\n",
    "# Function to compute the value distribution for a specific SKU\n",
    "def compute_value_distribution_for_sku(sku_index, std_dev):\n",
    "    mean = wtp_means[sku_index]\n",
    "    cost = sku_costs[sku_index]\n",
    "    values = np.random.normal(loc=mean, scale=std_dev, size=n_customers) - initial_price\n",
    "    return values\n",
    "\n",
    "# Function to compute the posterior probabilities\n",
    "\n",
    "# Generate all possible standard deviation combinations for all SKUs\n",
    "\n",
    "std_dev_combinations = list(product(possible_std_devs, repeat=len(sku_costs)))\n",
    "print(std_dev_combinations) \n"
   ],
   "id": "9b92de4133eb0c8a",
   "outputs": [
    {
     "name": "stderr",
     "output_type": "stream",
     "text": [
      "IOPub data rate exceeded.\n",
      "The Jupyter server will temporarily stop sending output\n",
      "to the client in order to avoid crashing it.\n",
      "To change this limit, set the config variable\n",
      "`--ServerApp.iopub_data_rate_limit`.\n",
      "\n",
      "Current values:\n",
      "ServerApp.iopub_data_rate_limit=1000000.0 (bytes/sec)\n",
      "ServerApp.rate_limit_window=3.0 (secs)\n",
      "\n"
     ]
    }
   ],
   "execution_count": 2
  },
  {
   "metadata": {},
   "cell_type": "code",
   "outputs": [],
   "execution_count": null,
   "source": [
    "posterior_probs = np.zeros((len(sku_costs), len(possible_std_devs)))\n",
    "\n",
    "for idx, std_dev_comb in enumerate(std_dev_combinations):\n",
    "    # Simulate value distributions for all SKUs based on the current std_dev_comb\n",
    "    values = np.zeros((n_customers, len(sku_costs)))\n",
    "    for i in range(len(sku_costs)):\n",
    "        values[:, i] = compute_value_distribution_for_sku(i, std_dev_comb[i])\n",
    "    \n",
    "    # Determine purchases based on highest value\n",
    "    chosen_skus = np.argmax(values, axis=1)\n",
    "    \n",
    "    # Count purchases for each SKU\n",
    "    simulated_purchases = np.array([np.sum(chosen_skus == i) for i in range(len(sku_costs))])\n",
    "    \n",
    "    # Ensure probabilities sum to 1 for multinomial distribution\n",
    "    simulated_purchases_prob = simulated_purchases / n_customers\n",
    "    if np.sum(simulated_purchases_prob) != 1:\n",
    "        simulated_purchases_prob = simulated_purchases_prob / np.sum(simulated_purchases_prob)\n",
    "    \n",
    "    # Compute the log-likelihood using multinomial distribution\n",
    "        log_likelihood = multinomial.logpmf([simulated_purchases, n_customers - simulated_purchases], n_customers, [simulated_purchases_prob, 1 - simulated_purchases_prob])\n",
    "        posterior_probs[idx, std_dev_comb] = np.exp(log_likelihood) * prior_prob\n",
    "\n",
    "    # Normalize posterior probabilities for the current SKU\n",
    "    posterior_probs[idx, :] /= np.sum(posterior_probs[idx, :])\n",
    "\n",
    "\n",
    "\n",
    "\n",
    "\n",
    "# Print the posterior probabilities\n",
    "for i in range(len(sku_costs)):\n",
    "    print(f'SKU {i + 1} posterior probabilities for std deviations {possible_std_devs}:')\n",
    "    print(posterior_probs)"
   ],
   "id": "72dd20f38e3862ae"
  }
 ],
 "metadata": {
  "kernelspec": {
   "display_name": "Python 3",
   "language": "python",
   "name": "python3"
  },
  "language_info": {
   "codemirror_mode": {
    "name": "ipython",
    "version": 2
   },
   "file_extension": ".py",
   "mimetype": "text/x-python",
   "name": "python",
   "nbconvert_exporter": "python",
   "pygments_lexer": "ipython2",
   "version": "2.7.6"
  }
 },
 "nbformat": 4,
 "nbformat_minor": 5
}
