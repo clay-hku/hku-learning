{
 "cells": [
  {
   "metadata": {
    "ExecuteTime": {
     "end_time": "2024-09-25T11:06:41.306762Z",
     "start_time": "2024-09-25T11:06:40.639210Z"
    }
   },
   "cell_type": "code",
   "source": [
    "import numpy as np\n",
    "import pandas as pd\n",
    "from scipy.stats import multinomial\n",
    "from itertools import product\n",
    "\n",
    "np.random.seed(0) # 控制种子实现得到相同的结论\n",
    "# Given data\n",
    "sku_costs = np.array([5, 6, 7, 8, 6, 2, 8, 5, 15, 7])\n",
    "wtp_means = np.array([6, 7.2, 8.4, 9.6, 7.2, 2.4, 9.6, 6, 18, 8.4])\n",
    "initial_price = np.array([6, 7.2, 8.4, 9.6, 7.2, 2.4, 9.6, 6, 18, 8.4])\n",
    "purchases = np.array([2, 16, 7, 3, 10, 4, 6, 19, 11, 12])\n",
    "possible_std_devs = np.array([0.5, 1, 2])\n",
    "prior_prob = 1 / len(possible_std_devs)  # Each standard deviation is equally likely\n",
    "\n",
    "# Number of customers\n",
    "n_customers = 100\n",
    "purchases = np.append(purchases, n_customers - purchases.sum())\n",
    "\n",
    "# Function to compute the value distribution for a specific SKU\n",
    "def compute_value_distribution_for_sku(sku_index, std):\n",
    "    mean = wtp_means[sku_index]\n",
    "    values = np.random.normal(loc=mean, scale=std, size=n_customers) - initial_price[sku_index]\n",
    "    return values\n",
    "\n",
    "# Generate all possible standard deviation combinations for all SKUs\n",
    "std_dev_combinations = list(product(possible_std_devs, repeat=len(sku_costs)))\n",
    "\n",
    "# Initialize the posterior array\n",
    "likelihood = np.zeros((len(std_dev_combinations)))"
   ],
   "id": "initial_id",
   "outputs": [],
   "execution_count": 1
  },
  {
   "metadata": {
    "ExecuteTime": {
     "end_time": "2024-09-25T11:06:41.311802Z",
     "start_time": "2024-09-25T11:06:41.307765Z"
    }
   },
   "cell_type": "code",
   "source": [
    "def maxs(x):\n",
    "    '''\n",
    "    用于计算每个顾客最大价值的商品\n",
    "    :param x: 输入的 NumPy 数组\n",
    "    :return: 二进制数组，每行的最大值设为 1，其余为 0\n",
    "    '''\n",
    "    maxvalue = np.max(x, axis=1)\n",
    "    result = np.zeros(x.shape)\n",
    "    \n",
    "    for i in range(x.shape[0]):\n",
    "        if maxvalue[i] > 0: result[i, np.argmax(x[i])] = 1\n",
    "    return result"
   ],
   "id": "c2ac7cf0d1c26ba5",
   "outputs": [],
   "execution_count": 2
  },
  {
   "metadata": {
    "ExecuteTime": {
     "end_time": "2024-09-25T11:06:53.882400Z",
     "start_time": "2024-09-25T11:06:41.313805Z"
    }
   },
   "cell_type": "code",
   "source": [
    "temp = []\n",
    "for idx, std_dev_comb in enumerate(std_dev_combinations):\n",
    "    # Simulate value distributions for all SKUs based on the current std_dev_comb\n",
    "    values = np.zeros((n_customers, len(sku_costs)))\n",
    "    for i in range(len(sku_costs)):\n",
    "        values[:, i] = compute_value_distribution_for_sku(i, std_dev_comb[i])\n",
    "    # 模拟每个顾客每个商品的价值,每一行代表一个顾客，每一列代表一个商品，求每一行最大值\n",
    "    simulated_purchases = maxs(values)\n",
    "    simulated_purchases_prob = simulated_purchases.sum(axis = 0)\n",
    "    totaltemp = np.sum(simulated_purchases_prob)\n",
    "    simulated_purchases_prob = np.append(simulated_purchases_prob, 100 - totaltemp)\n",
    "    temp.append(100 - totaltemp)\n",
    "    simulated_purchases_prob = simulated_purchases_prob / n_customers\n",
    "    log_likelihood = multinomial.logpmf(purchases, n_customers, simulated_purchases_prob)\n",
    "    likelihood[idx]= np.exp(log_likelihood)"
   ],
   "id": "2fb4f59a4bdb20f5",
   "outputs": [],
   "execution_count": 3
  },
  {
   "metadata": {
    "ExecuteTime": {
     "end_time": "2024-09-25T11:06:53.890400Z",
     "start_time": "2024-09-25T11:06:53.883403Z"
    }
   },
   "cell_type": "code",
   "source": "np.array(temp).sum(), len(std_dev_combinations)",
   "id": "7412983a47e04f5d",
   "outputs": [
    {
     "data": {
      "text/plain": [
       "(5847.0, 59049)"
      ]
     },
     "execution_count": 4,
     "metadata": {},
     "output_type": "execute_result"
    }
   ],
   "execution_count": 4
  },
  {
   "metadata": {
    "ExecuteTime": {
     "end_time": "2024-09-25T11:06:54.167268Z",
     "start_time": "2024-09-25T11:06:53.891403Z"
    }
   },
   "cell_type": "code",
   "source": [
    "prior = np.full(len(possible_std_devs), 1 / len(possible_std_devs))\n",
    "\n",
    "# Initialize the marginal likelihood array\n",
    "marginal_likelihood = np.zeros((len(sku_costs)+1, len(possible_std_devs)))\n",
    "marginal_likelihood_sum = np.zeros((len(sku_costs)+1))\n",
    "\n",
    "# Calculate the marginal likelihood for each SKU and each assumption\n",
    "posterior = pd.DataFrame(np.zeros((len(sku_costs)+1, len(possible_std_devs))))\n",
    "for i in range(len(sku_costs) + 1):\n",
    "    for j in range(len(possible_std_devs)):\n",
    "        indices = [idx for idx, comb in enumerate(std_dev_combinations) if comb[i % len(comb)] == possible_std_devs[j]]\n",
    "        marginal_likelihood[i, j] = np.sum(likelihood[indices])\n",
    "    marginal_likelihood_sum[i] = np.sum(marginal_likelihood[i, :] * prior)\n",
    "    posterior.iloc[i,:] = (marginal_likelihood[i,:] * prior_prob) / marginal_likelihood_sum[i]"
   ],
   "id": "235e980aed12e275",
   "outputs": [],
   "execution_count": 5
  },
  {
   "metadata": {
    "ExecuteTime": {
     "end_time": "2024-09-25T11:06:54.176738Z",
     "start_time": "2024-09-25T11:06:54.169271Z"
    }
   },
   "cell_type": "code",
   "source": "posterior",
   "id": "bfc75f67300fc78",
   "outputs": [
    {
     "data": {
      "text/plain": [
       "           0         1         2\n",
       "0   0.708938  0.287579  0.003482\n",
       "1   0.000038  0.076618  0.923344\n",
       "2   0.221079  0.703894  0.075027\n",
       "3   0.745596  0.095790  0.158615\n",
       "4   0.002355  0.799730  0.197915\n",
       "5   0.279098  0.714269  0.006633\n",
       "6   0.232710  0.763015  0.004275\n",
       "7   0.000003  0.000870  0.999127\n",
       "8   0.000400  0.789072  0.210528\n",
       "9   0.074304  0.242442  0.683254\n",
       "10  0.708938  0.287579  0.003482"
      ],
      "text/html": [
       "<div>\n",
       "<style scoped>\n",
       "    .dataframe tbody tr th:only-of-type {\n",
       "        vertical-align: middle;\n",
       "    }\n",
       "\n",
       "    .dataframe tbody tr th {\n",
       "        vertical-align: top;\n",
       "    }\n",
       "\n",
       "    .dataframe thead th {\n",
       "        text-align: right;\n",
       "    }\n",
       "</style>\n",
       "<table border=\"1\" class=\"dataframe\">\n",
       "  <thead>\n",
       "    <tr style=\"text-align: right;\">\n",
       "      <th></th>\n",
       "      <th>0</th>\n",
       "      <th>1</th>\n",
       "      <th>2</th>\n",
       "    </tr>\n",
       "  </thead>\n",
       "  <tbody>\n",
       "    <tr>\n",
       "      <th>0</th>\n",
       "      <td>0.708938</td>\n",
       "      <td>0.287579</td>\n",
       "      <td>0.003482</td>\n",
       "    </tr>\n",
       "    <tr>\n",
       "      <th>1</th>\n",
       "      <td>0.000038</td>\n",
       "      <td>0.076618</td>\n",
       "      <td>0.923344</td>\n",
       "    </tr>\n",
       "    <tr>\n",
       "      <th>2</th>\n",
       "      <td>0.221079</td>\n",
       "      <td>0.703894</td>\n",
       "      <td>0.075027</td>\n",
       "    </tr>\n",
       "    <tr>\n",
       "      <th>3</th>\n",
       "      <td>0.745596</td>\n",
       "      <td>0.095790</td>\n",
       "      <td>0.158615</td>\n",
       "    </tr>\n",
       "    <tr>\n",
       "      <th>4</th>\n",
       "      <td>0.002355</td>\n",
       "      <td>0.799730</td>\n",
       "      <td>0.197915</td>\n",
       "    </tr>\n",
       "    <tr>\n",
       "      <th>5</th>\n",
       "      <td>0.279098</td>\n",
       "      <td>0.714269</td>\n",
       "      <td>0.006633</td>\n",
       "    </tr>\n",
       "    <tr>\n",
       "      <th>6</th>\n",
       "      <td>0.232710</td>\n",
       "      <td>0.763015</td>\n",
       "      <td>0.004275</td>\n",
       "    </tr>\n",
       "    <tr>\n",
       "      <th>7</th>\n",
       "      <td>0.000003</td>\n",
       "      <td>0.000870</td>\n",
       "      <td>0.999127</td>\n",
       "    </tr>\n",
       "    <tr>\n",
       "      <th>8</th>\n",
       "      <td>0.000400</td>\n",
       "      <td>0.789072</td>\n",
       "      <td>0.210528</td>\n",
       "    </tr>\n",
       "    <tr>\n",
       "      <th>9</th>\n",
       "      <td>0.074304</td>\n",
       "      <td>0.242442</td>\n",
       "      <td>0.683254</td>\n",
       "    </tr>\n",
       "    <tr>\n",
       "      <th>10</th>\n",
       "      <td>0.708938</td>\n",
       "      <td>0.287579</td>\n",
       "      <td>0.003482</td>\n",
       "    </tr>\n",
       "  </tbody>\n",
       "</table>\n",
       "</div>"
      ]
     },
     "execution_count": 6,
     "metadata": {},
     "output_type": "execute_result"
    }
   ],
   "execution_count": 6
  },
  {
   "metadata": {
    "ExecuteTime": {
     "end_time": "2024-09-25T11:06:54.179883Z",
     "start_time": "2024-09-25T11:06:54.177742Z"
    }
   },
   "cell_type": "code",
   "source": "",
   "id": "7ee647c36f5a35a2",
   "outputs": [],
   "execution_count": 6
  }
 ],
 "metadata": {
  "kernelspec": {
   "display_name": "Python 3",
   "language": "python",
   "name": "python3"
  },
  "language_info": {
   "codemirror_mode": {
    "name": "ipython",
    "version": 2
   },
   "file_extension": ".py",
   "mimetype": "text/x-python",
   "name": "python",
   "nbconvert_exporter": "python",
   "pygments_lexer": "ipython2",
   "version": "2.7.6"
  }
 },
 "nbformat": 4,
 "nbformat_minor": 5
}
