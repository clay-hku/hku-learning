{
 "cells": [
  {
   "cell_type": "code",
   "id": "initial_id",
   "metadata": {
    "collapsed": true,
    "ExecuteTime": {
     "end_time": "2024-09-24T13:23:46.629153Z",
     "start_time": "2024-09-24T13:23:46.205396Z"
    }
   },
   "source": [
    "import numpy as np\n",
    "import pandas as pd"
   ],
   "outputs": [],
   "execution_count": 2
  },
  {
   "metadata": {
    "ExecuteTime": {
     "end_time": "2024-09-24T13:23:46.636831Z",
     "start_time": "2024-09-24T13:23:46.630156Z"
    }
   },
   "cell_type": "code",
   "source": [
    "raw_df = pd.read_csv('project_data_classA_group_3.csv', header = 0)\n",
    "raw_df.rename(columns = {'SKUs': 'Customer'}, inplace=True)"
   ],
   "id": "39b31811fda6e8c9",
   "outputs": [],
   "execution_count": 3
  },
  {
   "metadata": {
    "ExecuteTime": {
     "end_time": "2024-09-24T13:23:46.640935Z",
     "start_time": "2024-09-24T13:23:46.637833Z"
    }
   },
   "cell_type": "code",
   "source": "",
   "id": "71f980c369840b2a",
   "outputs": [],
   "execution_count": 4
  },
  {
   "metadata": {
    "ExecuteTime": {
     "end_time": "2024-09-24T13:23:46.647429Z",
     "start_time": "2024-09-24T13:23:46.641938Z"
    }
   },
   "cell_type": "code",
   "source": [
    "df_sku = raw_df.loc[0:1, :]\n",
    "cus_df = raw_df.loc[2:, :]\n",
    "cus_df.reset_index(drop = True, inplace = True)"
   ],
   "id": "a87b6e0121e4a88a",
   "outputs": [],
   "execution_count": 5
  },
  {
   "metadata": {
    "ExecuteTime": {
     "end_time": "2024-09-24T13:23:46.655555Z",
     "start_time": "2024-09-24T13:23:46.648432Z"
    }
   },
   "cell_type": "code",
   "source": [
    "sku_sales = cus_df.iloc[:, 1:].sum().rename('Sales')\n",
    "sku_sales = sku_sales.to_frame()\n",
    "df_sales = pd.concat([df_sku.iloc[0:2, :], sku_sales.T])\n",
    "df_sales.reset_index(drop = True, inplace = True)\n",
    "df_sales.iloc[2, 0] = 'Sales'"
   ],
   "id": "46ab7ce854c1a5ab",
   "outputs": [],
   "execution_count": 6
  },
  {
   "metadata": {
    "ExecuteTime": {
     "end_time": "2024-09-24T13:23:46.674063Z",
     "start_time": "2024-09-24T13:23:46.656557Z"
    }
   },
   "cell_type": "code",
   "source": [
    "wtp = pd.DataFrame(columns = ['Customer', 'WTP'])\n",
    "for i in cus_df.columns[1:]:\n",
    "    cus_df.loc[cus_df[i] == 1, 'WTP'] = df_sku.loc[1, i]\n",
    "    wtp_df = pd.concat([cus_df[cus_df[i] == 1]['Customer'], cus_df[cus_df[i] == 1]['WTP']], axis=1)\n",
    "    wtp = pd.concat([wtp, wtp_df], axis=0)\n",
    "nopurchase = cus_df[cus_df.iloc[:, 1:].sum(axis = 1) == 0]['Customer']\n",
    "nopurchase = nopurchase.to_frame()\n",
    "nopurchase['WTP'] = 0\n",
    "wtp = pd.concat([wtp, nopurchase], axis=0)\n",
    "wtp.sort_index(inplace = True)\n",
    "wtp.reset_index(drop = True, inplace = True)"
   ],
   "id": "df71e3cde1f6fd42",
   "outputs": [
    {
     "name": "stderr",
     "output_type": "stream",
     "text": [
      "C:\\Users\\15635\\AppData\\Local\\Temp\\ipykernel_12480\\423339138.py:3: SettingWithCopyWarning: \n",
      "A value is trying to be set on a copy of a slice from a DataFrame.\n",
      "Try using .loc[row_indexer,col_indexer] = value instead\n",
      "\n",
      "See the caveats in the documentation: https://pandas.pydata.org/pandas-docs/stable/user_guide/indexing.html#returning-a-view-versus-a-copy\n",
      "  cus_df.loc[cus_df[i] == 1, 'WTP'] = df_sku.loc[1, i]\n",
      "C:\\Users\\15635\\AppData\\Local\\Temp\\ipykernel_12480\\423339138.py:5: FutureWarning: The behavior of DataFrame concatenation with empty or all-NA entries is deprecated. In a future version, this will no longer exclude empty or all-NA columns when determining the result dtypes. To retain the old behavior, exclude the relevant entries before the concat operation.\n",
      "  wtp = pd.concat([wtp, wtp_df], axis=0)\n"
     ]
    }
   ],
   "execution_count": 7
  },
  {
   "metadata": {
    "ExecuteTime": {
     "end_time": "2024-09-24T13:23:46.677512Z",
     "start_time": "2024-09-24T13:23:46.675066Z"
    }
   },
   "cell_type": "code",
   "source": "df_sales.set_index('Customer', inplace = True, drop = True)",
   "id": "90003d9a383bb7d6",
   "outputs": [],
   "execution_count": 8
  },
  {
   "metadata": {
    "ExecuteTime": {
     "end_time": "2024-09-24T13:23:46.691072Z",
     "start_time": "2024-09-24T13:23:46.678514Z"
    }
   },
   "cell_type": "code",
   "source": "df_sales",
   "id": "c68fb87145cab3f4",
   "outputs": [
    {
     "data": {
      "text/plain": [
       "               A3_1  A3_2  A3_3  A3_4  A3_5  A3_6  A3_7  A3_8  A3_9  A3_10\n",
       "Customer                                                                  \n",
       "Cost            5.0   6.0   7.0   8.0   6.0   2.0   8.0   5.0  15.0    7.0\n",
       "Initial Price   6.0   7.2   8.4   9.6   7.2   2.4   9.6   6.0  18.0    8.4\n",
       "Sales           2.0  16.0   7.0   3.0  10.0   4.0   6.0  19.0  11.0   12.0"
      ],
      "text/html": [
       "<div>\n",
       "<style scoped>\n",
       "    .dataframe tbody tr th:only-of-type {\n",
       "        vertical-align: middle;\n",
       "    }\n",
       "\n",
       "    .dataframe tbody tr th {\n",
       "        vertical-align: top;\n",
       "    }\n",
       "\n",
       "    .dataframe thead th {\n",
       "        text-align: right;\n",
       "    }\n",
       "</style>\n",
       "<table border=\"1\" class=\"dataframe\">\n",
       "  <thead>\n",
       "    <tr style=\"text-align: right;\">\n",
       "      <th></th>\n",
       "      <th>A3_1</th>\n",
       "      <th>A3_2</th>\n",
       "      <th>A3_3</th>\n",
       "      <th>A3_4</th>\n",
       "      <th>A3_5</th>\n",
       "      <th>A3_6</th>\n",
       "      <th>A3_7</th>\n",
       "      <th>A3_8</th>\n",
       "      <th>A3_9</th>\n",
       "      <th>A3_10</th>\n",
       "    </tr>\n",
       "    <tr>\n",
       "      <th>Customer</th>\n",
       "      <th></th>\n",
       "      <th></th>\n",
       "      <th></th>\n",
       "      <th></th>\n",
       "      <th></th>\n",
       "      <th></th>\n",
       "      <th></th>\n",
       "      <th></th>\n",
       "      <th></th>\n",
       "      <th></th>\n",
       "    </tr>\n",
       "  </thead>\n",
       "  <tbody>\n",
       "    <tr>\n",
       "      <th>Cost</th>\n",
       "      <td>5.0</td>\n",
       "      <td>6.0</td>\n",
       "      <td>7.0</td>\n",
       "      <td>8.0</td>\n",
       "      <td>6.0</td>\n",
       "      <td>2.0</td>\n",
       "      <td>8.0</td>\n",
       "      <td>5.0</td>\n",
       "      <td>15.0</td>\n",
       "      <td>7.0</td>\n",
       "    </tr>\n",
       "    <tr>\n",
       "      <th>Initial Price</th>\n",
       "      <td>6.0</td>\n",
       "      <td>7.2</td>\n",
       "      <td>8.4</td>\n",
       "      <td>9.6</td>\n",
       "      <td>7.2</td>\n",
       "      <td>2.4</td>\n",
       "      <td>9.6</td>\n",
       "      <td>6.0</td>\n",
       "      <td>18.0</td>\n",
       "      <td>8.4</td>\n",
       "    </tr>\n",
       "    <tr>\n",
       "      <th>Sales</th>\n",
       "      <td>2.0</td>\n",
       "      <td>16.0</td>\n",
       "      <td>7.0</td>\n",
       "      <td>3.0</td>\n",
       "      <td>10.0</td>\n",
       "      <td>4.0</td>\n",
       "      <td>6.0</td>\n",
       "      <td>19.0</td>\n",
       "      <td>11.0</td>\n",
       "      <td>12.0</td>\n",
       "    </tr>\n",
       "  </tbody>\n",
       "</table>\n",
       "</div>"
      ]
     },
     "execution_count": 9,
     "metadata": {},
     "output_type": "execute_result"
    }
   ],
   "execution_count": 9
  },
  {
   "metadata": {
    "ExecuteTime": {
     "end_time": "2024-09-24T13:23:46.697769Z",
     "start_time": "2024-09-24T13:23:46.691072Z"
    }
   },
   "cell_type": "code",
   "source": "wtp",
   "id": "f13549c5e314cdee",
   "outputs": [
    {
     "data": {
      "text/plain": [
       "       Customer   WTP\n",
       "0     customer1   9.6\n",
       "1     customer2   6.0\n",
       "2     customer3  18.0\n",
       "3     customer4   8.4\n",
       "4     customer5   9.6\n",
       "..          ...   ...\n",
       "95   customer96   9.6\n",
       "96   customer97  18.0\n",
       "97   customer98   7.2\n",
       "98   customer99   6.0\n",
       "99  customer100   9.6\n",
       "\n",
       "[100 rows x 2 columns]"
      ],
      "text/html": [
       "<div>\n",
       "<style scoped>\n",
       "    .dataframe tbody tr th:only-of-type {\n",
       "        vertical-align: middle;\n",
       "    }\n",
       "\n",
       "    .dataframe tbody tr th {\n",
       "        vertical-align: top;\n",
       "    }\n",
       "\n",
       "    .dataframe thead th {\n",
       "        text-align: right;\n",
       "    }\n",
       "</style>\n",
       "<table border=\"1\" class=\"dataframe\">\n",
       "  <thead>\n",
       "    <tr style=\"text-align: right;\">\n",
       "      <th></th>\n",
       "      <th>Customer</th>\n",
       "      <th>WTP</th>\n",
       "    </tr>\n",
       "  </thead>\n",
       "  <tbody>\n",
       "    <tr>\n",
       "      <th>0</th>\n",
       "      <td>customer1</td>\n",
       "      <td>9.6</td>\n",
       "    </tr>\n",
       "    <tr>\n",
       "      <th>1</th>\n",
       "      <td>customer2</td>\n",
       "      <td>6.0</td>\n",
       "    </tr>\n",
       "    <tr>\n",
       "      <th>2</th>\n",
       "      <td>customer3</td>\n",
       "      <td>18.0</td>\n",
       "    </tr>\n",
       "    <tr>\n",
       "      <th>3</th>\n",
       "      <td>customer4</td>\n",
       "      <td>8.4</td>\n",
       "    </tr>\n",
       "    <tr>\n",
       "      <th>4</th>\n",
       "      <td>customer5</td>\n",
       "      <td>9.6</td>\n",
       "    </tr>\n",
       "    <tr>\n",
       "      <th>...</th>\n",
       "      <td>...</td>\n",
       "      <td>...</td>\n",
       "    </tr>\n",
       "    <tr>\n",
       "      <th>95</th>\n",
       "      <td>customer96</td>\n",
       "      <td>9.6</td>\n",
       "    </tr>\n",
       "    <tr>\n",
       "      <th>96</th>\n",
       "      <td>customer97</td>\n",
       "      <td>18.0</td>\n",
       "    </tr>\n",
       "    <tr>\n",
       "      <th>97</th>\n",
       "      <td>customer98</td>\n",
       "      <td>7.2</td>\n",
       "    </tr>\n",
       "    <tr>\n",
       "      <th>98</th>\n",
       "      <td>customer99</td>\n",
       "      <td>6.0</td>\n",
       "    </tr>\n",
       "    <tr>\n",
       "      <th>99</th>\n",
       "      <td>customer100</td>\n",
       "      <td>9.6</td>\n",
       "    </tr>\n",
       "  </tbody>\n",
       "</table>\n",
       "<p>100 rows × 2 columns</p>\n",
       "</div>"
      ]
     },
     "execution_count": 10,
     "metadata": {},
     "output_type": "execute_result"
    }
   ],
   "execution_count": 10
  }
 ],
 "metadata": {
  "kernelspec": {
   "display_name": "Python 3",
   "language": "python",
   "name": "python3"
  },
  "language_info": {
   "codemirror_mode": {
    "name": "ipython",
    "version": 2
   },
   "file_extension": ".py",
   "mimetype": "text/x-python",
   "name": "python",
   "nbconvert_exporter": "python",
   "pygments_lexer": "ipython2",
   "version": "2.7.6"
  }
 },
 "nbformat": 4,
 "nbformat_minor": 5
}
